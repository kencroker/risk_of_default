{
 "cells": [
  {
   "cell_type": "markdown",
   "metadata": {},
   "source": [
    "# Analyzing Borrowers' Risk of Defaulting\n",
    "\n",
    "In this project, I will prepare a report for a hypothetical bank’s loan division. I aim to find out if a customer’s marital status and number of children has an impact on whether they will default on a loan. Each row of the dataset has information on a particular borrower, including whether or not they defaulted.\n",
    "\n",
    "Here is what each of the columns of the dataset means:\n",
    "- **children**: the number of children in the family\n",
    "- **days_employed**: how long the customer has been working\n",
    "- **dob_years**: the customer’s age\n",
    "- **education**: the customer’s education level\n",
    "- **education_id**: identifier for the customer’s education\n",
    "- **family_status**: the customer’s marital status\n",
    "- **family_status_id**: identifier for the customer’s marital status\n",
    "- **gender**: the customer’s gender\n",
    "- **income_type**: the customer’s income type\n",
    "- **debt**: whether the customer has defaulted on a loan\n",
    "- **total_income**: monthly income\n",
    "- **purpose**: reason for taking out a loan"
   ]
  },
  {
   "cell_type": "markdown",
   "metadata": {},
   "source": [
    "## Opening the Data File"
   ]
  },
  {
   "cell_type": "code",
   "execution_count": 1,
   "metadata": {},
   "outputs": [
    {
     "data": {
      "text/html": [
       "<div>\n",
       "<style scoped>\n",
       "    .dataframe tbody tr th:only-of-type {\n",
       "        vertical-align: middle;\n",
       "    }\n",
       "\n",
       "    .dataframe tbody tr th {\n",
       "        vertical-align: top;\n",
       "    }\n",
       "\n",
       "    .dataframe thead th {\n",
       "        text-align: right;\n",
       "    }\n",
       "</style>\n",
       "<table border=\"1\" class=\"dataframe\">\n",
       "  <thead>\n",
       "    <tr style=\"text-align: right;\">\n",
       "      <th></th>\n",
       "      <th>children</th>\n",
       "      <th>days_employed</th>\n",
       "      <th>dob_years</th>\n",
       "      <th>education</th>\n",
       "      <th>education_id</th>\n",
       "      <th>family_status</th>\n",
       "      <th>family_status_id</th>\n",
       "      <th>gender</th>\n",
       "      <th>income_type</th>\n",
       "      <th>debt</th>\n",
       "      <th>total_income</th>\n",
       "      <th>purpose</th>\n",
       "    </tr>\n",
       "  </thead>\n",
       "  <tbody>\n",
       "    <tr>\n",
       "      <th>0</th>\n",
       "      <td>1</td>\n",
       "      <td>-8437.673028</td>\n",
       "      <td>42</td>\n",
       "      <td>bachelor's degree</td>\n",
       "      <td>0</td>\n",
       "      <td>married</td>\n",
       "      <td>0</td>\n",
       "      <td>F</td>\n",
       "      <td>employee</td>\n",
       "      <td>0</td>\n",
       "      <td>40620.102</td>\n",
       "      <td>purchase of the house</td>\n",
       "    </tr>\n",
       "    <tr>\n",
       "      <th>1</th>\n",
       "      <td>1</td>\n",
       "      <td>-4024.803754</td>\n",
       "      <td>36</td>\n",
       "      <td>secondary education</td>\n",
       "      <td>1</td>\n",
       "      <td>married</td>\n",
       "      <td>0</td>\n",
       "      <td>F</td>\n",
       "      <td>employee</td>\n",
       "      <td>0</td>\n",
       "      <td>17932.802</td>\n",
       "      <td>car purchase</td>\n",
       "    </tr>\n",
       "    <tr>\n",
       "      <th>2</th>\n",
       "      <td>0</td>\n",
       "      <td>-5623.422610</td>\n",
       "      <td>33</td>\n",
       "      <td>Secondary Education</td>\n",
       "      <td>1</td>\n",
       "      <td>married</td>\n",
       "      <td>0</td>\n",
       "      <td>M</td>\n",
       "      <td>employee</td>\n",
       "      <td>0</td>\n",
       "      <td>23341.752</td>\n",
       "      <td>purchase of the house</td>\n",
       "    </tr>\n",
       "    <tr>\n",
       "      <th>3</th>\n",
       "      <td>3</td>\n",
       "      <td>-4124.747207</td>\n",
       "      <td>32</td>\n",
       "      <td>secondary education</td>\n",
       "      <td>1</td>\n",
       "      <td>married</td>\n",
       "      <td>0</td>\n",
       "      <td>M</td>\n",
       "      <td>employee</td>\n",
       "      <td>0</td>\n",
       "      <td>42820.568</td>\n",
       "      <td>supplementary education</td>\n",
       "    </tr>\n",
       "    <tr>\n",
       "      <th>4</th>\n",
       "      <td>0</td>\n",
       "      <td>340266.072047</td>\n",
       "      <td>53</td>\n",
       "      <td>secondary education</td>\n",
       "      <td>1</td>\n",
       "      <td>civil partnership</td>\n",
       "      <td>1</td>\n",
       "      <td>F</td>\n",
       "      <td>retiree</td>\n",
       "      <td>0</td>\n",
       "      <td>25378.572</td>\n",
       "      <td>to have a wedding</td>\n",
       "    </tr>\n",
       "  </tbody>\n",
       "</table>\n",
       "</div>"
      ],
      "text/plain": [
       "   children  days_employed  dob_years            education  education_id  \\\n",
       "0         1   -8437.673028         42    bachelor's degree             0   \n",
       "1         1   -4024.803754         36  secondary education             1   \n",
       "2         0   -5623.422610         33  Secondary Education             1   \n",
       "3         3   -4124.747207         32  secondary education             1   \n",
       "4         0  340266.072047         53  secondary education             1   \n",
       "\n",
       "       family_status  family_status_id gender income_type  debt  total_income  \\\n",
       "0            married                 0      F    employee     0     40620.102   \n",
       "1            married                 0      F    employee     0     17932.802   \n",
       "2            married                 0      M    employee     0     23341.752   \n",
       "3            married                 0      M    employee     0     42820.568   \n",
       "4  civil partnership                 1      F     retiree     0     25378.572   \n",
       "\n",
       "                   purpose  \n",
       "0    purchase of the house  \n",
       "1             car purchase  \n",
       "2    purchase of the house  \n",
       "3  supplementary education  \n",
       "4        to have a wedding  "
      ]
     },
     "execution_count": 1,
     "metadata": {},
     "output_type": "execute_result"
    }
   ],
   "source": [
    "import pandas as pd\n",
    "try:\n",
    "    df = pd.read_csv('credit_scoring_eng.csv')\n",
    "except:\n",
    "    df = pd.read_csv('/datasets/credit_scoring_eng.csv')\n",
    "df.head()"
   ]
  },
  {
   "cell_type": "code",
   "execution_count": 2,
   "metadata": {},
   "outputs": [
    {
     "name": "stdout",
     "output_type": "stream",
     "text": [
      "<class 'pandas.core.frame.DataFrame'>\n",
      "RangeIndex: 21525 entries, 0 to 21524\n",
      "Data columns (total 12 columns):\n",
      " #   Column            Non-Null Count  Dtype  \n",
      "---  ------            --------------  -----  \n",
      " 0   children          21525 non-null  int64  \n",
      " 1   days_employed     19351 non-null  float64\n",
      " 2   dob_years         21525 non-null  int64  \n",
      " 3   education         21525 non-null  object \n",
      " 4   education_id      21525 non-null  int64  \n",
      " 5   family_status     21525 non-null  object \n",
      " 6   family_status_id  21525 non-null  int64  \n",
      " 7   gender            21525 non-null  object \n",
      " 8   income_type       21525 non-null  object \n",
      " 9   debt              21525 non-null  int64  \n",
      " 10  total_income      19351 non-null  float64\n",
      " 11  purpose           21525 non-null  object \n",
      "dtypes: float64(2), int64(5), object(5)\n",
      "memory usage: 2.0+ MB\n"
     ]
    }
   ],
   "source": [
    "df.info()"
   ]
  },
  {
   "cell_type": "code",
   "execution_count": 3,
   "metadata": {},
   "outputs": [
    {
     "data": {
      "text/plain": [
       "children               0\n",
       "days_employed       2174\n",
       "dob_years              0\n",
       "education              0\n",
       "education_id           0\n",
       "family_status          0\n",
       "family_status_id       0\n",
       "gender                 0\n",
       "income_type            0\n",
       "debt                   0\n",
       "total_income        2174\n",
       "purpose                0\n",
       "dtype: int64"
      ]
     },
     "execution_count": 3,
     "metadata": {},
     "output_type": "execute_result"
    }
   ],
   "source": [
    "df.isna().sum()"
   ]
  },
  {
   "cell_type": "code",
   "execution_count": 4,
   "metadata": {},
   "outputs": [
    {
     "data": {
      "text/plain": [
       "children            0.000000\n",
       "days_employed       0.100999\n",
       "dob_years           0.000000\n",
       "education           0.000000\n",
       "education_id        0.000000\n",
       "family_status       0.000000\n",
       "family_status_id    0.000000\n",
       "gender              0.000000\n",
       "income_type         0.000000\n",
       "debt                0.000000\n",
       "total_income        0.100999\n",
       "purpose             0.000000\n",
       "dtype: float64"
      ]
     },
     "execution_count": 4,
     "metadata": {},
     "output_type": "execute_result"
    }
   ],
   "source": [
    "df.isna().sum() / len(df)"
   ]
  },
  {
   "cell_type": "markdown",
   "metadata": {},
   "source": [
    "### Conclusion"
   ]
  },
  {
   "cell_type": "markdown",
   "metadata": {},
   "source": [
    "Based on the output of df.info(), we have 2 columns with float values, 5 columns with integer values, and 5 columns with object (string) values. It seems like all variables (columns) have the correct data type for the values they represent (gender is an object, total_income is a float, etc).\n",
    "\n",
    "Based on the output of df.isna().sum(), most columns are free of missing values. However, we still have 2174 missing values in the days_employed column and 2174 missing values in the total_income column. 2174 missing values accounts for about 10% of the total values in these columns. We will need to take care of these values."
   ]
  },
  {
   "cell_type": "markdown",
   "metadata": {},
   "source": [
    "## Data Preprocessing"
   ]
  },
  {
   "cell_type": "markdown",
   "metadata": {},
   "source": [
    "### Processing missing values"
   ]
  },
  {
   "cell_type": "code",
   "execution_count": 5,
   "metadata": {},
   "outputs": [
    {
     "name": "stdout",
     "output_type": "stream",
     "text": [
      "The median amount of income is 23202.87.\n",
      "The mean amount of income is 26787.56835465871.\n"
     ]
    }
   ],
   "source": [
    "print(f'The median amount of income is {df.total_income.median()}.')\n",
    "print(f'The mean amount of income is {df.total_income.mean()}.')"
   ]
  },
  {
   "cell_type": "markdown",
   "metadata": {},
   "source": [
    "The mean and median incomes are pretty close together. That means outliers are not skewing the data too much. Just to be safe, I'll use the median rather than the mean.\n",
    "I plan to take the missing total_income values and replace them with the median value of total_income."
   ]
  },
  {
   "cell_type": "markdown",
   "metadata": {},
   "source": [
    "Now I will look at the mean and median values for the days_employed column:"
   ]
  },
  {
   "cell_type": "code",
   "execution_count": 6,
   "metadata": {
    "scrolled": true
   },
   "outputs": [
    {
     "name": "stdout",
     "output_type": "stream",
     "text": [
      "The median number of days employed is -1203.369528770489.\n",
      "The mean number of days employed is 63046.497661473615.\n"
     ]
    }
   ],
   "source": [
    "print(f'The median number of days employed is {df.days_employed.median()}.')\n",
    "print(f'The mean number of days employed is {df.days_employed.mean()}.')"
   ]
  },
  {
   "cell_type": "markdown",
   "metadata": {},
   "source": [
    "Wow! There's a HUGE difference between the mean and median. Maybe there's some prominent outliers, or perhaps another variable like income_type could be linked to the number of days employed."
   ]
  },
  {
   "cell_type": "code",
   "execution_count": 7,
   "metadata": {},
   "outputs": [
    {
     "data": {
      "text/plain": [
       "employee                       11119\n",
       "business                        5085\n",
       "retiree                         3856\n",
       "civil servant                   1459\n",
       "entrepreneur                       2\n",
       "unemployed                         2\n",
       "paternity / maternity leave        1\n",
       "student                            1\n",
       "Name: income_type, dtype: int64"
      ]
     },
     "execution_count": 7,
     "metadata": {},
     "output_type": "execute_result"
    }
   ],
   "source": [
    "df['income_type'].value_counts()"
   ]
  },
  {
   "cell_type": "code",
   "execution_count": 8,
   "metadata": {
    "scrolled": true
   },
   "outputs": [
    {
     "data": {
      "text/plain": [
       "employee         1105\n",
       "business          508\n",
       "retiree           413\n",
       "civil servant     147\n",
       "entrepreneur        1\n",
       "Name: income_type, dtype: int64"
      ]
     },
     "execution_count": 8,
     "metadata": {},
     "output_type": "execute_result"
    }
   ],
   "source": [
    "df[df.total_income.isna()]['income_type'].value_counts()"
   ]
  },
  {
   "cell_type": "markdown",
   "metadata": {},
   "source": [
    "Let's group people by income_type to see if there's a link between income_type and days_employed."
   ]
  },
  {
   "cell_type": "code",
   "execution_count": 9,
   "metadata": {
    "scrolled": false
   },
   "outputs": [
    {
     "data": {
      "text/plain": [
       "income_type\n",
       "business                        4577\n",
       "civil servant                   1312\n",
       "employee                       10014\n",
       "entrepreneur                       1\n",
       "paternity / maternity leave        1\n",
       "retiree                         3443\n",
       "student                            1\n",
       "unemployed                         2\n",
       "Name: days_employed, dtype: int64"
      ]
     },
     "execution_count": 9,
     "metadata": {},
     "output_type": "execute_result"
    }
   ],
   "source": [
    "df.groupby('income_type').days_employed.count()"
   ]
  },
  {
   "cell_type": "code",
   "execution_count": 10,
   "metadata": {
    "scrolled": false
   },
   "outputs": [
    {
     "data": {
      "text/plain": [
       "income_type\n",
       "business                        -1547.382223\n",
       "civil servant                   -2689.368353\n",
       "employee                        -1574.202821\n",
       "entrepreneur                     -520.848083\n",
       "paternity / maternity leave     -3296.759962\n",
       "retiree                        365213.306266\n",
       "student                          -578.751554\n",
       "unemployed                     366413.652744\n",
       "Name: days_employed, dtype: float64"
      ]
     },
     "execution_count": 10,
     "metadata": {},
     "output_type": "execute_result"
    }
   ],
   "source": [
    "df.groupby('income_type').days_employed.median()"
   ]
  },
  {
   "cell_type": "markdown",
   "metadata": {},
   "source": [
    "I notice a huge difference between the median value of days_employed for retired individuals and the median value for non-retired individuals. \n",
    "\n",
    "**The median value for days_employed for most income types is negative, but it's positive for retired. I'm honestly not sure why this is. If a negative number represents the number of days since getting a job, then the negative values might make sense. But the median value of days_employed is 365213 days, or roughly 1000 years. I have never heard of someone who has lived 1000 years.** \n",
    "\n",
    "Let's deal with each group (retirees and non-retirees) individually."
   ]
  },
  {
   "cell_type": "markdown",
   "metadata": {},
   "source": [
    "### Conclusion"
   ]
  },
  {
   "cell_type": "markdown",
   "metadata": {},
   "source": [
    "I plan to take the missing total_income values and replace them with the median value of total_income."
   ]
  },
  {
   "cell_type": "code",
   "execution_count": 11,
   "metadata": {},
   "outputs": [],
   "source": [
    "median_income = df['total_income'].median()\n",
    "df['total_income'] = df['total_income'].fillna(median_income)"
   ]
  },
  {
   "cell_type": "markdown",
   "metadata": {},
   "source": [
    "The missing values in the total_income column have been replaced with the median value for the dataset."
   ]
  },
  {
   "cell_type": "markdown",
   "metadata": {},
   "source": [
    "I now plan to split the rows with missing days_employed values into two groups: the rows with retirees and the rows with non-retirees.\n",
    "For the retirees, I'll fill in the missing values with the median value of days_employed for retired individuals.\n",
    "For the non-retirees, I'll fill in the missing values witht the median value of days_employed for the non-retirees."
   ]
  },
  {
   "cell_type": "code",
   "execution_count": 12,
   "metadata": {},
   "outputs": [],
   "source": [
    "retirees_emp = df[df.income_type == 'retiree']['days_employed'].median()\n",
    "non_retirees_emp = df[df.income_type != 'retiree']['days_employed'].median()"
   ]
  },
  {
   "cell_type": "code",
   "execution_count": 13,
   "metadata": {},
   "outputs": [],
   "source": [
    "df.loc[(df.income_type == 'retiree') & (df.days_employed.isnull()), 'days_employed'] = retirees_emp\n",
    "df.loc[(df.income_type != 'retiree') & (df.days_employed.isnull()), 'days_employed'] = non_retirees_emp"
   ]
  },
  {
   "cell_type": "markdown",
   "metadata": {},
   "source": [
    "Let's check that our changes actually worked."
   ]
  },
  {
   "cell_type": "code",
   "execution_count": 14,
   "metadata": {
    "scrolled": false
   },
   "outputs": [
    {
     "data": {
      "text/plain": [
       "children            0\n",
       "days_employed       0\n",
       "dob_years           0\n",
       "education           0\n",
       "education_id        0\n",
       "family_status       0\n",
       "family_status_id    0\n",
       "gender              0\n",
       "income_type         0\n",
       "debt                0\n",
       "total_income        0\n",
       "purpose             0\n",
       "dtype: int64"
      ]
     },
     "execution_count": 14,
     "metadata": {},
     "output_type": "execute_result"
    }
   ],
   "source": [
    "df.isna().sum()"
   ]
  },
  {
   "cell_type": "markdown",
   "metadata": {},
   "source": [
    "No more missing values! Hooray!"
   ]
  },
  {
   "cell_type": "markdown",
   "metadata": {},
   "source": [
    "### Data type replacement"
   ]
  },
  {
   "cell_type": "code",
   "execution_count": 15,
   "metadata": {
    "scrolled": false
   },
   "outputs": [
    {
     "name": "stdout",
     "output_type": "stream",
     "text": [
      "<class 'pandas.core.frame.DataFrame'>\n",
      "RangeIndex: 21525 entries, 0 to 21524\n",
      "Data columns (total 12 columns):\n",
      " #   Column            Non-Null Count  Dtype  \n",
      "---  ------            --------------  -----  \n",
      " 0   children          21525 non-null  int64  \n",
      " 1   days_employed     21525 non-null  float64\n",
      " 2   dob_years         21525 non-null  int64  \n",
      " 3   education         21525 non-null  object \n",
      " 4   education_id      21525 non-null  int64  \n",
      " 5   family_status     21525 non-null  object \n",
      " 6   family_status_id  21525 non-null  int64  \n",
      " 7   gender            21525 non-null  object \n",
      " 8   income_type       21525 non-null  object \n",
      " 9   debt              21525 non-null  int64  \n",
      " 10  total_income      21525 non-null  float64\n",
      " 11  purpose           21525 non-null  object \n",
      "dtypes: float64(2), int64(5), object(5)\n",
      "memory usage: 2.0+ MB\n"
     ]
    }
   ],
   "source": [
    "df.info()"
   ]
  },
  {
   "cell_type": "markdown",
   "metadata": {},
   "source": [
    "It seems like all the columns have the appropriate data type except for the days_employed and income column.\n",
    "These columns contain float values, but these values should be converted to integers.\n",
    "\n",
    "I will pass the argument 'int' into the astype() method to do this:"
   ]
  },
  {
   "cell_type": "code",
   "execution_count": 16,
   "metadata": {},
   "outputs": [
    {
     "name": "stdout",
     "output_type": "stream",
     "text": [
      "<class 'pandas.core.frame.DataFrame'>\n",
      "RangeIndex: 21525 entries, 0 to 21524\n",
      "Data columns (total 12 columns):\n",
      " #   Column            Non-Null Count  Dtype \n",
      "---  ------            --------------  ----- \n",
      " 0   children          21525 non-null  int64 \n",
      " 1   days_employed     21525 non-null  int32 \n",
      " 2   dob_years         21525 non-null  int64 \n",
      " 3   education         21525 non-null  object\n",
      " 4   education_id      21525 non-null  int64 \n",
      " 5   family_status     21525 non-null  object\n",
      " 6   family_status_id  21525 non-null  int64 \n",
      " 7   gender            21525 non-null  object\n",
      " 8   income_type       21525 non-null  object\n",
      " 9   debt              21525 non-null  int64 \n",
      " 10  total_income      21525 non-null  int32 \n",
      " 11  purpose           21525 non-null  object\n",
      "dtypes: int32(2), int64(5), object(5)\n",
      "memory usage: 1.8+ MB\n"
     ]
    }
   ],
   "source": [
    "df['days_employed'] = df['days_employed'].astype('int')\n",
    "df['total_income'] = df['total_income'].astype('int')\n",
    "\n",
    "df.info()"
   ]
  },
  {
   "cell_type": "markdown",
   "metadata": {},
   "source": [
    "Everything worked! Now the dataset contains 7 integer valued columns and 5 object valued columns."
   ]
  },
  {
   "cell_type": "markdown",
   "metadata": {},
   "source": [
    "I can save some extra storage space by converting some of the columns from int64 to int8.\n",
    "The children, education_id, family_status_id, and debt columns all store int64 values. But I don't actually need all 64 bits. The values are simple enough that we could store them using 8 bits each. So I will convert them to the int8 data type."
   ]
  },
  {
   "cell_type": "code",
   "execution_count": 17,
   "metadata": {},
   "outputs": [],
   "source": [
    "df['children'] = df['children'].astype('int8')\n",
    "df['education_id'] = df['education_id'].astype('int8')\n",
    "df['family_status_id'] = df['family_status_id'].astype('int8')\n",
    "df['debt'] = df['debt'].astype('int8')"
   ]
  },
  {
   "cell_type": "markdown",
   "metadata": {},
   "source": [
    "Okay, now let's check the data types again:"
   ]
  },
  {
   "cell_type": "code",
   "execution_count": 18,
   "metadata": {},
   "outputs": [
    {
     "name": "stdout",
     "output_type": "stream",
     "text": [
      "<class 'pandas.core.frame.DataFrame'>\n",
      "RangeIndex: 21525 entries, 0 to 21524\n",
      "Data columns (total 12 columns):\n",
      " #   Column            Non-Null Count  Dtype \n",
      "---  ------            --------------  ----- \n",
      " 0   children          21525 non-null  int8  \n",
      " 1   days_employed     21525 non-null  int32 \n",
      " 2   dob_years         21525 non-null  int64 \n",
      " 3   education         21525 non-null  object\n",
      " 4   education_id      21525 non-null  int8  \n",
      " 5   family_status     21525 non-null  object\n",
      " 6   family_status_id  21525 non-null  int8  \n",
      " 7   gender            21525 non-null  object\n",
      " 8   income_type       21525 non-null  object\n",
      " 9   debt              21525 non-null  int8  \n",
      " 10  total_income      21525 non-null  int32 \n",
      " 11  purpose           21525 non-null  object\n",
      "dtypes: int32(2), int64(1), int8(4), object(5)\n",
      "memory usage: 1.2+ MB\n"
     ]
    }
   ],
   "source": [
    "df.info()"
   ]
  },
  {
   "cell_type": "markdown",
   "metadata": {},
   "source": [
    "It worked!"
   ]
  },
  {
   "cell_type": "markdown",
   "metadata": {},
   "source": [
    "### Conclusion"
   ]
  },
  {
   "cell_type": "markdown",
   "metadata": {},
   "source": [
    "Great! Now we have 7 integer valued columns and 5 object (string) valued columns.\n",
    "It looks like we've converted each column to its appropriate data type."
   ]
  },
  {
   "cell_type": "markdown",
   "metadata": {},
   "source": [
    "### Processing duplicates"
   ]
  },
  {
   "cell_type": "markdown",
   "metadata": {},
   "source": [
    "Our dataframe might contain duplicate rows. Duplicates can arise if the borrowers accidentally submit a form twice, or a form gets submitted twice in a database."
   ]
  },
  {
   "cell_type": "markdown",
   "metadata": {},
   "source": [
    "Let's use the duplicated() method to see how many duplicated rows we have:"
   ]
  },
  {
   "cell_type": "code",
   "execution_count": 19,
   "metadata": {},
   "outputs": [
    {
     "data": {
      "text/plain": [
       "54"
      ]
     },
     "execution_count": 19,
     "metadata": {},
     "output_type": "execute_result"
    }
   ],
   "source": [
    "df.duplicated().sum()"
   ]
  },
  {
   "cell_type": "markdown",
   "metadata": {},
   "source": [
    "Wow! That's a lot of duplicate rows! Let's see which rows they are."
   ]
  },
  {
   "cell_type": "code",
   "execution_count": 20,
   "metadata": {},
   "outputs": [
    {
     "data": {
      "text/html": [
       "<div>\n",
       "<style scoped>\n",
       "    .dataframe tbody tr th:only-of-type {\n",
       "        vertical-align: middle;\n",
       "    }\n",
       "\n",
       "    .dataframe tbody tr th {\n",
       "        vertical-align: top;\n",
       "    }\n",
       "\n",
       "    .dataframe thead th {\n",
       "        text-align: right;\n",
       "    }\n",
       "</style>\n",
       "<table border=\"1\" class=\"dataframe\">\n",
       "  <thead>\n",
       "    <tr style=\"text-align: right;\">\n",
       "      <th></th>\n",
       "      <th>children</th>\n",
       "      <th>days_employed</th>\n",
       "      <th>dob_years</th>\n",
       "      <th>education</th>\n",
       "      <th>education_id</th>\n",
       "      <th>family_status</th>\n",
       "      <th>family_status_id</th>\n",
       "      <th>gender</th>\n",
       "      <th>income_type</th>\n",
       "      <th>debt</th>\n",
       "      <th>total_income</th>\n",
       "      <th>purpose</th>\n",
       "    </tr>\n",
       "  </thead>\n",
       "  <tbody>\n",
       "    <tr>\n",
       "      <th>2849</th>\n",
       "      <td>0</td>\n",
       "      <td>-1629</td>\n",
       "      <td>41</td>\n",
       "      <td>secondary education</td>\n",
       "      <td>1</td>\n",
       "      <td>married</td>\n",
       "      <td>0</td>\n",
       "      <td>F</td>\n",
       "      <td>employee</td>\n",
       "      <td>0</td>\n",
       "      <td>23202</td>\n",
       "      <td>purchase of the house for my family</td>\n",
       "    </tr>\n",
       "    <tr>\n",
       "      <th>4182</th>\n",
       "      <td>1</td>\n",
       "      <td>-1629</td>\n",
       "      <td>34</td>\n",
       "      <td>BACHELOR'S DEGREE</td>\n",
       "      <td>0</td>\n",
       "      <td>civil partnership</td>\n",
       "      <td>1</td>\n",
       "      <td>F</td>\n",
       "      <td>employee</td>\n",
       "      <td>0</td>\n",
       "      <td>23202</td>\n",
       "      <td>wedding ceremony</td>\n",
       "    </tr>\n",
       "    <tr>\n",
       "      <th>4851</th>\n",
       "      <td>0</td>\n",
       "      <td>365213</td>\n",
       "      <td>60</td>\n",
       "      <td>secondary education</td>\n",
       "      <td>1</td>\n",
       "      <td>civil partnership</td>\n",
       "      <td>1</td>\n",
       "      <td>F</td>\n",
       "      <td>retiree</td>\n",
       "      <td>0</td>\n",
       "      <td>23202</td>\n",
       "      <td>wedding ceremony</td>\n",
       "    </tr>\n",
       "    <tr>\n",
       "      <th>5557</th>\n",
       "      <td>0</td>\n",
       "      <td>365213</td>\n",
       "      <td>58</td>\n",
       "      <td>secondary education</td>\n",
       "      <td>1</td>\n",
       "      <td>civil partnership</td>\n",
       "      <td>1</td>\n",
       "      <td>F</td>\n",
       "      <td>retiree</td>\n",
       "      <td>0</td>\n",
       "      <td>23202</td>\n",
       "      <td>to have a wedding</td>\n",
       "    </tr>\n",
       "    <tr>\n",
       "      <th>7808</th>\n",
       "      <td>0</td>\n",
       "      <td>365213</td>\n",
       "      <td>57</td>\n",
       "      <td>secondary education</td>\n",
       "      <td>1</td>\n",
       "      <td>civil partnership</td>\n",
       "      <td>1</td>\n",
       "      <td>F</td>\n",
       "      <td>retiree</td>\n",
       "      <td>0</td>\n",
       "      <td>23202</td>\n",
       "      <td>having a wedding</td>\n",
       "    </tr>\n",
       "    <tr>\n",
       "      <th>8583</th>\n",
       "      <td>0</td>\n",
       "      <td>365213</td>\n",
       "      <td>58</td>\n",
       "      <td>bachelor's degree</td>\n",
       "      <td>0</td>\n",
       "      <td>unmarried</td>\n",
       "      <td>4</td>\n",
       "      <td>F</td>\n",
       "      <td>retiree</td>\n",
       "      <td>0</td>\n",
       "      <td>23202</td>\n",
       "      <td>supplementary education</td>\n",
       "    </tr>\n",
       "    <tr>\n",
       "      <th>9238</th>\n",
       "      <td>2</td>\n",
       "      <td>-1629</td>\n",
       "      <td>34</td>\n",
       "      <td>secondary education</td>\n",
       "      <td>1</td>\n",
       "      <td>married</td>\n",
       "      <td>0</td>\n",
       "      <td>F</td>\n",
       "      <td>employee</td>\n",
       "      <td>0</td>\n",
       "      <td>23202</td>\n",
       "      <td>buying property for renting out</td>\n",
       "    </tr>\n",
       "    <tr>\n",
       "      <th>9528</th>\n",
       "      <td>0</td>\n",
       "      <td>365213</td>\n",
       "      <td>66</td>\n",
       "      <td>secondary education</td>\n",
       "      <td>1</td>\n",
       "      <td>widow / widower</td>\n",
       "      <td>2</td>\n",
       "      <td>F</td>\n",
       "      <td>retiree</td>\n",
       "      <td>0</td>\n",
       "      <td>23202</td>\n",
       "      <td>transactions with my real estate</td>\n",
       "    </tr>\n",
       "    <tr>\n",
       "      <th>9627</th>\n",
       "      <td>0</td>\n",
       "      <td>365213</td>\n",
       "      <td>56</td>\n",
       "      <td>secondary education</td>\n",
       "      <td>1</td>\n",
       "      <td>married</td>\n",
       "      <td>0</td>\n",
       "      <td>F</td>\n",
       "      <td>retiree</td>\n",
       "      <td>0</td>\n",
       "      <td>23202</td>\n",
       "      <td>transactions with my real estate</td>\n",
       "    </tr>\n",
       "    <tr>\n",
       "      <th>10462</th>\n",
       "      <td>0</td>\n",
       "      <td>365213</td>\n",
       "      <td>62</td>\n",
       "      <td>secondary education</td>\n",
       "      <td>1</td>\n",
       "      <td>married</td>\n",
       "      <td>0</td>\n",
       "      <td>F</td>\n",
       "      <td>retiree</td>\n",
       "      <td>0</td>\n",
       "      <td>23202</td>\n",
       "      <td>buy commercial real estate</td>\n",
       "    </tr>\n",
       "    <tr>\n",
       "      <th>10697</th>\n",
       "      <td>0</td>\n",
       "      <td>-1629</td>\n",
       "      <td>40</td>\n",
       "      <td>secondary education</td>\n",
       "      <td>1</td>\n",
       "      <td>civil partnership</td>\n",
       "      <td>1</td>\n",
       "      <td>F</td>\n",
       "      <td>business</td>\n",
       "      <td>0</td>\n",
       "      <td>23202</td>\n",
       "      <td>to have a wedding</td>\n",
       "    </tr>\n",
       "    <tr>\n",
       "      <th>10864</th>\n",
       "      <td>0</td>\n",
       "      <td>365213</td>\n",
       "      <td>62</td>\n",
       "      <td>secondary education</td>\n",
       "      <td>1</td>\n",
       "      <td>married</td>\n",
       "      <td>0</td>\n",
       "      <td>F</td>\n",
       "      <td>retiree</td>\n",
       "      <td>0</td>\n",
       "      <td>23202</td>\n",
       "      <td>housing renovation</td>\n",
       "    </tr>\n",
       "    <tr>\n",
       "      <th>10994</th>\n",
       "      <td>0</td>\n",
       "      <td>365213</td>\n",
       "      <td>62</td>\n",
       "      <td>secondary education</td>\n",
       "      <td>1</td>\n",
       "      <td>married</td>\n",
       "      <td>0</td>\n",
       "      <td>F</td>\n",
       "      <td>retiree</td>\n",
       "      <td>0</td>\n",
       "      <td>23202</td>\n",
       "      <td>housing renovation</td>\n",
       "    </tr>\n",
       "    <tr>\n",
       "      <th>11791</th>\n",
       "      <td>0</td>\n",
       "      <td>-1629</td>\n",
       "      <td>47</td>\n",
       "      <td>secondary education</td>\n",
       "      <td>1</td>\n",
       "      <td>married</td>\n",
       "      <td>0</td>\n",
       "      <td>F</td>\n",
       "      <td>employee</td>\n",
       "      <td>0</td>\n",
       "      <td>23202</td>\n",
       "      <td>building a property</td>\n",
       "    </tr>\n",
       "    <tr>\n",
       "      <th>12373</th>\n",
       "      <td>0</td>\n",
       "      <td>-1629</td>\n",
       "      <td>58</td>\n",
       "      <td>secondary education</td>\n",
       "      <td>1</td>\n",
       "      <td>married</td>\n",
       "      <td>0</td>\n",
       "      <td>M</td>\n",
       "      <td>employee</td>\n",
       "      <td>0</td>\n",
       "      <td>23202</td>\n",
       "      <td>buy real estate</td>\n",
       "    </tr>\n",
       "    <tr>\n",
       "      <th>12375</th>\n",
       "      <td>1</td>\n",
       "      <td>-1629</td>\n",
       "      <td>37</td>\n",
       "      <td>secondary education</td>\n",
       "      <td>1</td>\n",
       "      <td>married</td>\n",
       "      <td>0</td>\n",
       "      <td>F</td>\n",
       "      <td>employee</td>\n",
       "      <td>0</td>\n",
       "      <td>23202</td>\n",
       "      <td>buy real estate</td>\n",
       "    </tr>\n",
       "    <tr>\n",
       "      <th>12736</th>\n",
       "      <td>0</td>\n",
       "      <td>365213</td>\n",
       "      <td>59</td>\n",
       "      <td>secondary education</td>\n",
       "      <td>1</td>\n",
       "      <td>married</td>\n",
       "      <td>0</td>\n",
       "      <td>F</td>\n",
       "      <td>retiree</td>\n",
       "      <td>0</td>\n",
       "      <td>23202</td>\n",
       "      <td>to become educated</td>\n",
       "    </tr>\n",
       "    <tr>\n",
       "      <th>13025</th>\n",
       "      <td>1</td>\n",
       "      <td>-1629</td>\n",
       "      <td>44</td>\n",
       "      <td>secondary education</td>\n",
       "      <td>1</td>\n",
       "      <td>married</td>\n",
       "      <td>0</td>\n",
       "      <td>F</td>\n",
       "      <td>employee</td>\n",
       "      <td>0</td>\n",
       "      <td>23202</td>\n",
       "      <td>second-hand car purchase</td>\n",
       "    </tr>\n",
       "    <tr>\n",
       "      <th>13639</th>\n",
       "      <td>0</td>\n",
       "      <td>365213</td>\n",
       "      <td>64</td>\n",
       "      <td>secondary education</td>\n",
       "      <td>1</td>\n",
       "      <td>married</td>\n",
       "      <td>0</td>\n",
       "      <td>F</td>\n",
       "      <td>retiree</td>\n",
       "      <td>0</td>\n",
       "      <td>23202</td>\n",
       "      <td>car</td>\n",
       "    </tr>\n",
       "    <tr>\n",
       "      <th>13773</th>\n",
       "      <td>0</td>\n",
       "      <td>-1629</td>\n",
       "      <td>35</td>\n",
       "      <td>secondary education</td>\n",
       "      <td>1</td>\n",
       "      <td>civil partnership</td>\n",
       "      <td>1</td>\n",
       "      <td>F</td>\n",
       "      <td>employee</td>\n",
       "      <td>0</td>\n",
       "      <td>23202</td>\n",
       "      <td>to have a wedding</td>\n",
       "    </tr>\n",
       "    <tr>\n",
       "      <th>13878</th>\n",
       "      <td>1</td>\n",
       "      <td>-1629</td>\n",
       "      <td>31</td>\n",
       "      <td>secondary education</td>\n",
       "      <td>1</td>\n",
       "      <td>married</td>\n",
       "      <td>0</td>\n",
       "      <td>F</td>\n",
       "      <td>business</td>\n",
       "      <td>0</td>\n",
       "      <td>23202</td>\n",
       "      <td>purchase of the house</td>\n",
       "    </tr>\n",
       "    <tr>\n",
       "      <th>13942</th>\n",
       "      <td>0</td>\n",
       "      <td>-1629</td>\n",
       "      <td>44</td>\n",
       "      <td>secondary education</td>\n",
       "      <td>1</td>\n",
       "      <td>married</td>\n",
       "      <td>0</td>\n",
       "      <td>F</td>\n",
       "      <td>employee</td>\n",
       "      <td>0</td>\n",
       "      <td>23202</td>\n",
       "      <td>car purchase</td>\n",
       "    </tr>\n",
       "    <tr>\n",
       "      <th>14432</th>\n",
       "      <td>2</td>\n",
       "      <td>-1629</td>\n",
       "      <td>36</td>\n",
       "      <td>bachelor's degree</td>\n",
       "      <td>0</td>\n",
       "      <td>married</td>\n",
       "      <td>0</td>\n",
       "      <td>F</td>\n",
       "      <td>civil servant</td>\n",
       "      <td>0</td>\n",
       "      <td>23202</td>\n",
       "      <td>getting an education</td>\n",
       "    </tr>\n",
       "    <tr>\n",
       "      <th>14832</th>\n",
       "      <td>0</td>\n",
       "      <td>-1629</td>\n",
       "      <td>50</td>\n",
       "      <td>secondary education</td>\n",
       "      <td>1</td>\n",
       "      <td>unmarried</td>\n",
       "      <td>4</td>\n",
       "      <td>F</td>\n",
       "      <td>employee</td>\n",
       "      <td>0</td>\n",
       "      <td>23202</td>\n",
       "      <td>property</td>\n",
       "    </tr>\n",
       "    <tr>\n",
       "      <th>15091</th>\n",
       "      <td>0</td>\n",
       "      <td>-1629</td>\n",
       "      <td>58</td>\n",
       "      <td>secondary education</td>\n",
       "      <td>1</td>\n",
       "      <td>civil partnership</td>\n",
       "      <td>1</td>\n",
       "      <td>M</td>\n",
       "      <td>employee</td>\n",
       "      <td>0</td>\n",
       "      <td>23202</td>\n",
       "      <td>having a wedding</td>\n",
       "    </tr>\n",
       "    <tr>\n",
       "      <th>15188</th>\n",
       "      <td>0</td>\n",
       "      <td>-1629</td>\n",
       "      <td>60</td>\n",
       "      <td>secondary education</td>\n",
       "      <td>1</td>\n",
       "      <td>married</td>\n",
       "      <td>0</td>\n",
       "      <td>M</td>\n",
       "      <td>employee</td>\n",
       "      <td>0</td>\n",
       "      <td>23202</td>\n",
       "      <td>buy real estate</td>\n",
       "    </tr>\n",
       "    <tr>\n",
       "      <th>15273</th>\n",
       "      <td>0</td>\n",
       "      <td>365213</td>\n",
       "      <td>57</td>\n",
       "      <td>secondary education</td>\n",
       "      <td>1</td>\n",
       "      <td>civil partnership</td>\n",
       "      <td>1</td>\n",
       "      <td>F</td>\n",
       "      <td>retiree</td>\n",
       "      <td>0</td>\n",
       "      <td>23202</td>\n",
       "      <td>wedding ceremony</td>\n",
       "    </tr>\n",
       "    <tr>\n",
       "      <th>16176</th>\n",
       "      <td>0</td>\n",
       "      <td>-1629</td>\n",
       "      <td>47</td>\n",
       "      <td>secondary education</td>\n",
       "      <td>1</td>\n",
       "      <td>married</td>\n",
       "      <td>0</td>\n",
       "      <td>F</td>\n",
       "      <td>employee</td>\n",
       "      <td>0</td>\n",
       "      <td>23202</td>\n",
       "      <td>housing renovation</td>\n",
       "    </tr>\n",
       "    <tr>\n",
       "      <th>16378</th>\n",
       "      <td>0</td>\n",
       "      <td>-1629</td>\n",
       "      <td>46</td>\n",
       "      <td>secondary education</td>\n",
       "      <td>1</td>\n",
       "      <td>married</td>\n",
       "      <td>0</td>\n",
       "      <td>F</td>\n",
       "      <td>employee</td>\n",
       "      <td>0</td>\n",
       "      <td>23202</td>\n",
       "      <td>university education</td>\n",
       "    </tr>\n",
       "    <tr>\n",
       "      <th>16902</th>\n",
       "      <td>2</td>\n",
       "      <td>-1629</td>\n",
       "      <td>39</td>\n",
       "      <td>secondary education</td>\n",
       "      <td>1</td>\n",
       "      <td>civil partnership</td>\n",
       "      <td>1</td>\n",
       "      <td>F</td>\n",
       "      <td>employee</td>\n",
       "      <td>0</td>\n",
       "      <td>23202</td>\n",
       "      <td>to have a wedding</td>\n",
       "    </tr>\n",
       "    <tr>\n",
       "      <th>16904</th>\n",
       "      <td>1</td>\n",
       "      <td>-1629</td>\n",
       "      <td>32</td>\n",
       "      <td>bachelor's degree</td>\n",
       "      <td>0</td>\n",
       "      <td>married</td>\n",
       "      <td>0</td>\n",
       "      <td>F</td>\n",
       "      <td>employee</td>\n",
       "      <td>0</td>\n",
       "      <td>23202</td>\n",
       "      <td>buying a second-hand car</td>\n",
       "    </tr>\n",
       "    <tr>\n",
       "      <th>17379</th>\n",
       "      <td>0</td>\n",
       "      <td>-1629</td>\n",
       "      <td>54</td>\n",
       "      <td>bachelor's degree</td>\n",
       "      <td>0</td>\n",
       "      <td>married</td>\n",
       "      <td>0</td>\n",
       "      <td>M</td>\n",
       "      <td>business</td>\n",
       "      <td>0</td>\n",
       "      <td>23202</td>\n",
       "      <td>transactions with commercial real estate</td>\n",
       "    </tr>\n",
       "    <tr>\n",
       "      <th>17755</th>\n",
       "      <td>1</td>\n",
       "      <td>-1629</td>\n",
       "      <td>43</td>\n",
       "      <td>secondary education</td>\n",
       "      <td>1</td>\n",
       "      <td>married</td>\n",
       "      <td>0</td>\n",
       "      <td>M</td>\n",
       "      <td>employee</td>\n",
       "      <td>0</td>\n",
       "      <td>23202</td>\n",
       "      <td>to become educated</td>\n",
       "    </tr>\n",
       "    <tr>\n",
       "      <th>17774</th>\n",
       "      <td>1</td>\n",
       "      <td>-1629</td>\n",
       "      <td>40</td>\n",
       "      <td>secondary education</td>\n",
       "      <td>1</td>\n",
       "      <td>civil partnership</td>\n",
       "      <td>1</td>\n",
       "      <td>F</td>\n",
       "      <td>business</td>\n",
       "      <td>0</td>\n",
       "      <td>23202</td>\n",
       "      <td>building a real estate</td>\n",
       "    </tr>\n",
       "    <tr>\n",
       "      <th>18328</th>\n",
       "      <td>0</td>\n",
       "      <td>-1629</td>\n",
       "      <td>29</td>\n",
       "      <td>bachelor's degree</td>\n",
       "      <td>0</td>\n",
       "      <td>married</td>\n",
       "      <td>0</td>\n",
       "      <td>M</td>\n",
       "      <td>employee</td>\n",
       "      <td>0</td>\n",
       "      <td>23202</td>\n",
       "      <td>buy residential real estate</td>\n",
       "    </tr>\n",
       "    <tr>\n",
       "      <th>18349</th>\n",
       "      <td>1</td>\n",
       "      <td>-1629</td>\n",
       "      <td>30</td>\n",
       "      <td>bachelor's degree</td>\n",
       "      <td>0</td>\n",
       "      <td>married</td>\n",
       "      <td>0</td>\n",
       "      <td>F</td>\n",
       "      <td>civil servant</td>\n",
       "      <td>0</td>\n",
       "      <td>23202</td>\n",
       "      <td>purchase of the house for my family</td>\n",
       "    </tr>\n",
       "    <tr>\n",
       "      <th>18428</th>\n",
       "      <td>0</td>\n",
       "      <td>365213</td>\n",
       "      <td>64</td>\n",
       "      <td>secondary education</td>\n",
       "      <td>1</td>\n",
       "      <td>married</td>\n",
       "      <td>0</td>\n",
       "      <td>F</td>\n",
       "      <td>retiree</td>\n",
       "      <td>0</td>\n",
       "      <td>23202</td>\n",
       "      <td>housing</td>\n",
       "    </tr>\n",
       "    <tr>\n",
       "      <th>18521</th>\n",
       "      <td>0</td>\n",
       "      <td>-1629</td>\n",
       "      <td>56</td>\n",
       "      <td>secondary education</td>\n",
       "      <td>1</td>\n",
       "      <td>civil partnership</td>\n",
       "      <td>1</td>\n",
       "      <td>F</td>\n",
       "      <td>employee</td>\n",
       "      <td>0</td>\n",
       "      <td>23202</td>\n",
       "      <td>to have a wedding</td>\n",
       "    </tr>\n",
       "    <tr>\n",
       "      <th>18563</th>\n",
       "      <td>0</td>\n",
       "      <td>-1629</td>\n",
       "      <td>54</td>\n",
       "      <td>secondary education</td>\n",
       "      <td>1</td>\n",
       "      <td>married</td>\n",
       "      <td>0</td>\n",
       "      <td>F</td>\n",
       "      <td>employee</td>\n",
       "      <td>0</td>\n",
       "      <td>23202</td>\n",
       "      <td>transactions with my real estate</td>\n",
       "    </tr>\n",
       "    <tr>\n",
       "      <th>18755</th>\n",
       "      <td>0</td>\n",
       "      <td>365213</td>\n",
       "      <td>58</td>\n",
       "      <td>secondary education</td>\n",
       "      <td>1</td>\n",
       "      <td>married</td>\n",
       "      <td>0</td>\n",
       "      <td>F</td>\n",
       "      <td>retiree</td>\n",
       "      <td>0</td>\n",
       "      <td>23202</td>\n",
       "      <td>to become educated</td>\n",
       "    </tr>\n",
       "    <tr>\n",
       "      <th>19041</th>\n",
       "      <td>0</td>\n",
       "      <td>-1629</td>\n",
       "      <td>56</td>\n",
       "      <td>secondary education</td>\n",
       "      <td>1</td>\n",
       "      <td>civil partnership</td>\n",
       "      <td>1</td>\n",
       "      <td>F</td>\n",
       "      <td>employee</td>\n",
       "      <td>0</td>\n",
       "      <td>23202</td>\n",
       "      <td>having a wedding</td>\n",
       "    </tr>\n",
       "    <tr>\n",
       "      <th>19184</th>\n",
       "      <td>0</td>\n",
       "      <td>-1629</td>\n",
       "      <td>46</td>\n",
       "      <td>secondary education</td>\n",
       "      <td>1</td>\n",
       "      <td>married</td>\n",
       "      <td>0</td>\n",
       "      <td>F</td>\n",
       "      <td>employee</td>\n",
       "      <td>0</td>\n",
       "      <td>23202</td>\n",
       "      <td>to own a car</td>\n",
       "    </tr>\n",
       "    <tr>\n",
       "      <th>19321</th>\n",
       "      <td>0</td>\n",
       "      <td>-1629</td>\n",
       "      <td>23</td>\n",
       "      <td>secondary education</td>\n",
       "      <td>1</td>\n",
       "      <td>unmarried</td>\n",
       "      <td>4</td>\n",
       "      <td>F</td>\n",
       "      <td>employee</td>\n",
       "      <td>0</td>\n",
       "      <td>23202</td>\n",
       "      <td>second-hand car purchase</td>\n",
       "    </tr>\n",
       "    <tr>\n",
       "      <th>19387</th>\n",
       "      <td>0</td>\n",
       "      <td>-1629</td>\n",
       "      <td>38</td>\n",
       "      <td>bachelor's degree</td>\n",
       "      <td>0</td>\n",
       "      <td>civil partnership</td>\n",
       "      <td>1</td>\n",
       "      <td>F</td>\n",
       "      <td>business</td>\n",
       "      <td>0</td>\n",
       "      <td>23202</td>\n",
       "      <td>having a wedding</td>\n",
       "    </tr>\n",
       "    <tr>\n",
       "      <th>19688</th>\n",
       "      <td>0</td>\n",
       "      <td>365213</td>\n",
       "      <td>61</td>\n",
       "      <td>secondary education</td>\n",
       "      <td>1</td>\n",
       "      <td>married</td>\n",
       "      <td>0</td>\n",
       "      <td>F</td>\n",
       "      <td>retiree</td>\n",
       "      <td>0</td>\n",
       "      <td>23202</td>\n",
       "      <td>real estate transactions</td>\n",
       "    </tr>\n",
       "    <tr>\n",
       "      <th>19832</th>\n",
       "      <td>0</td>\n",
       "      <td>-1629</td>\n",
       "      <td>48</td>\n",
       "      <td>secondary education</td>\n",
       "      <td>1</td>\n",
       "      <td>married</td>\n",
       "      <td>0</td>\n",
       "      <td>F</td>\n",
       "      <td>employee</td>\n",
       "      <td>0</td>\n",
       "      <td>23202</td>\n",
       "      <td>housing renovation</td>\n",
       "    </tr>\n",
       "    <tr>\n",
       "      <th>19946</th>\n",
       "      <td>0</td>\n",
       "      <td>-1629</td>\n",
       "      <td>57</td>\n",
       "      <td>secondary education</td>\n",
       "      <td>1</td>\n",
       "      <td>married</td>\n",
       "      <td>0</td>\n",
       "      <td>F</td>\n",
       "      <td>employee</td>\n",
       "      <td>0</td>\n",
       "      <td>23202</td>\n",
       "      <td>second-hand car purchase</td>\n",
       "    </tr>\n",
       "    <tr>\n",
       "      <th>20116</th>\n",
       "      <td>0</td>\n",
       "      <td>365213</td>\n",
       "      <td>57</td>\n",
       "      <td>secondary education</td>\n",
       "      <td>1</td>\n",
       "      <td>civil partnership</td>\n",
       "      <td>1</td>\n",
       "      <td>M</td>\n",
       "      <td>retiree</td>\n",
       "      <td>0</td>\n",
       "      <td>23202</td>\n",
       "      <td>wedding ceremony</td>\n",
       "    </tr>\n",
       "    <tr>\n",
       "      <th>20165</th>\n",
       "      <td>0</td>\n",
       "      <td>-1629</td>\n",
       "      <td>42</td>\n",
       "      <td>secondary education</td>\n",
       "      <td>1</td>\n",
       "      <td>married</td>\n",
       "      <td>0</td>\n",
       "      <td>F</td>\n",
       "      <td>employee</td>\n",
       "      <td>0</td>\n",
       "      <td>23202</td>\n",
       "      <td>purchase of the house for my family</td>\n",
       "    </tr>\n",
       "    <tr>\n",
       "      <th>20702</th>\n",
       "      <td>0</td>\n",
       "      <td>365213</td>\n",
       "      <td>64</td>\n",
       "      <td>secondary education</td>\n",
       "      <td>1</td>\n",
       "      <td>married</td>\n",
       "      <td>0</td>\n",
       "      <td>F</td>\n",
       "      <td>retiree</td>\n",
       "      <td>0</td>\n",
       "      <td>23202</td>\n",
       "      <td>supplementary education</td>\n",
       "    </tr>\n",
       "    <tr>\n",
       "      <th>21032</th>\n",
       "      <td>0</td>\n",
       "      <td>365213</td>\n",
       "      <td>60</td>\n",
       "      <td>secondary education</td>\n",
       "      <td>1</td>\n",
       "      <td>married</td>\n",
       "      <td>0</td>\n",
       "      <td>F</td>\n",
       "      <td>retiree</td>\n",
       "      <td>0</td>\n",
       "      <td>23202</td>\n",
       "      <td>to become educated</td>\n",
       "    </tr>\n",
       "    <tr>\n",
       "      <th>21132</th>\n",
       "      <td>0</td>\n",
       "      <td>-1629</td>\n",
       "      <td>47</td>\n",
       "      <td>secondary education</td>\n",
       "      <td>1</td>\n",
       "      <td>married</td>\n",
       "      <td>0</td>\n",
       "      <td>F</td>\n",
       "      <td>employee</td>\n",
       "      <td>0</td>\n",
       "      <td>23202</td>\n",
       "      <td>housing renovation</td>\n",
       "    </tr>\n",
       "    <tr>\n",
       "      <th>21281</th>\n",
       "      <td>1</td>\n",
       "      <td>-1629</td>\n",
       "      <td>30</td>\n",
       "      <td>bachelor's degree</td>\n",
       "      <td>0</td>\n",
       "      <td>married</td>\n",
       "      <td>0</td>\n",
       "      <td>F</td>\n",
       "      <td>employee</td>\n",
       "      <td>0</td>\n",
       "      <td>23202</td>\n",
       "      <td>buy commercial real estate</td>\n",
       "    </tr>\n",
       "    <tr>\n",
       "      <th>21415</th>\n",
       "      <td>0</td>\n",
       "      <td>365213</td>\n",
       "      <td>54</td>\n",
       "      <td>secondary education</td>\n",
       "      <td>1</td>\n",
       "      <td>married</td>\n",
       "      <td>0</td>\n",
       "      <td>F</td>\n",
       "      <td>retiree</td>\n",
       "      <td>0</td>\n",
       "      <td>23202</td>\n",
       "      <td>housing transactions</td>\n",
       "    </tr>\n",
       "  </tbody>\n",
       "</table>\n",
       "</div>"
      ],
      "text/plain": [
       "       children  days_employed  dob_years            education  education_id  \\\n",
       "2849          0          -1629         41  secondary education             1   \n",
       "4182          1          -1629         34    BACHELOR'S DEGREE             0   \n",
       "4851          0         365213         60  secondary education             1   \n",
       "5557          0         365213         58  secondary education             1   \n",
       "7808          0         365213         57  secondary education             1   \n",
       "8583          0         365213         58    bachelor's degree             0   \n",
       "9238          2          -1629         34  secondary education             1   \n",
       "9528          0         365213         66  secondary education             1   \n",
       "9627          0         365213         56  secondary education             1   \n",
       "10462         0         365213         62  secondary education             1   \n",
       "10697         0          -1629         40  secondary education             1   \n",
       "10864         0         365213         62  secondary education             1   \n",
       "10994         0         365213         62  secondary education             1   \n",
       "11791         0          -1629         47  secondary education             1   \n",
       "12373         0          -1629         58  secondary education             1   \n",
       "12375         1          -1629         37  secondary education             1   \n",
       "12736         0         365213         59  secondary education             1   \n",
       "13025         1          -1629         44  secondary education             1   \n",
       "13639         0         365213         64  secondary education             1   \n",
       "13773         0          -1629         35  secondary education             1   \n",
       "13878         1          -1629         31  secondary education             1   \n",
       "13942         0          -1629         44  secondary education             1   \n",
       "14432         2          -1629         36    bachelor's degree             0   \n",
       "14832         0          -1629         50  secondary education             1   \n",
       "15091         0          -1629         58  secondary education             1   \n",
       "15188         0          -1629         60  secondary education             1   \n",
       "15273         0         365213         57  secondary education             1   \n",
       "16176         0          -1629         47  secondary education             1   \n",
       "16378         0          -1629         46  secondary education             1   \n",
       "16902         2          -1629         39  secondary education             1   \n",
       "16904         1          -1629         32    bachelor's degree             0   \n",
       "17379         0          -1629         54    bachelor's degree             0   \n",
       "17755         1          -1629         43  secondary education             1   \n",
       "17774         1          -1629         40  secondary education             1   \n",
       "18328         0          -1629         29    bachelor's degree             0   \n",
       "18349         1          -1629         30    bachelor's degree             0   \n",
       "18428         0         365213         64  secondary education             1   \n",
       "18521         0          -1629         56  secondary education             1   \n",
       "18563         0          -1629         54  secondary education             1   \n",
       "18755         0         365213         58  secondary education             1   \n",
       "19041         0          -1629         56  secondary education             1   \n",
       "19184         0          -1629         46  secondary education             1   \n",
       "19321         0          -1629         23  secondary education             1   \n",
       "19387         0          -1629         38    bachelor's degree             0   \n",
       "19688         0         365213         61  secondary education             1   \n",
       "19832         0          -1629         48  secondary education             1   \n",
       "19946         0          -1629         57  secondary education             1   \n",
       "20116         0         365213         57  secondary education             1   \n",
       "20165         0          -1629         42  secondary education             1   \n",
       "20702         0         365213         64  secondary education             1   \n",
       "21032         0         365213         60  secondary education             1   \n",
       "21132         0          -1629         47  secondary education             1   \n",
       "21281         1          -1629         30    bachelor's degree             0   \n",
       "21415         0         365213         54  secondary education             1   \n",
       "\n",
       "           family_status  family_status_id gender    income_type  debt  \\\n",
       "2849             married                 0      F       employee     0   \n",
       "4182   civil partnership                 1      F       employee     0   \n",
       "4851   civil partnership                 1      F        retiree     0   \n",
       "5557   civil partnership                 1      F        retiree     0   \n",
       "7808   civil partnership                 1      F        retiree     0   \n",
       "8583           unmarried                 4      F        retiree     0   \n",
       "9238             married                 0      F       employee     0   \n",
       "9528     widow / widower                 2      F        retiree     0   \n",
       "9627             married                 0      F        retiree     0   \n",
       "10462            married                 0      F        retiree     0   \n",
       "10697  civil partnership                 1      F       business     0   \n",
       "10864            married                 0      F        retiree     0   \n",
       "10994            married                 0      F        retiree     0   \n",
       "11791            married                 0      F       employee     0   \n",
       "12373            married                 0      M       employee     0   \n",
       "12375            married                 0      F       employee     0   \n",
       "12736            married                 0      F        retiree     0   \n",
       "13025            married                 0      F       employee     0   \n",
       "13639            married                 0      F        retiree     0   \n",
       "13773  civil partnership                 1      F       employee     0   \n",
       "13878            married                 0      F       business     0   \n",
       "13942            married                 0      F       employee     0   \n",
       "14432            married                 0      F  civil servant     0   \n",
       "14832          unmarried                 4      F       employee     0   \n",
       "15091  civil partnership                 1      M       employee     0   \n",
       "15188            married                 0      M       employee     0   \n",
       "15273  civil partnership                 1      F        retiree     0   \n",
       "16176            married                 0      F       employee     0   \n",
       "16378            married                 0      F       employee     0   \n",
       "16902  civil partnership                 1      F       employee     0   \n",
       "16904            married                 0      F       employee     0   \n",
       "17379            married                 0      M       business     0   \n",
       "17755            married                 0      M       employee     0   \n",
       "17774  civil partnership                 1      F       business     0   \n",
       "18328            married                 0      M       employee     0   \n",
       "18349            married                 0      F  civil servant     0   \n",
       "18428            married                 0      F        retiree     0   \n",
       "18521  civil partnership                 1      F       employee     0   \n",
       "18563            married                 0      F       employee     0   \n",
       "18755            married                 0      F        retiree     0   \n",
       "19041  civil partnership                 1      F       employee     0   \n",
       "19184            married                 0      F       employee     0   \n",
       "19321          unmarried                 4      F       employee     0   \n",
       "19387  civil partnership                 1      F       business     0   \n",
       "19688            married                 0      F        retiree     0   \n",
       "19832            married                 0      F       employee     0   \n",
       "19946            married                 0      F       employee     0   \n",
       "20116  civil partnership                 1      M        retiree     0   \n",
       "20165            married                 0      F       employee     0   \n",
       "20702            married                 0      F        retiree     0   \n",
       "21032            married                 0      F        retiree     0   \n",
       "21132            married                 0      F       employee     0   \n",
       "21281            married                 0      F       employee     0   \n",
       "21415            married                 0      F        retiree     0   \n",
       "\n",
       "       total_income                                   purpose  \n",
       "2849          23202       purchase of the house for my family  \n",
       "4182          23202                          wedding ceremony  \n",
       "4851          23202                          wedding ceremony  \n",
       "5557          23202                         to have a wedding  \n",
       "7808          23202                          having a wedding  \n",
       "8583          23202                   supplementary education  \n",
       "9238          23202           buying property for renting out  \n",
       "9528          23202          transactions with my real estate  \n",
       "9627          23202          transactions with my real estate  \n",
       "10462         23202                buy commercial real estate  \n",
       "10697         23202                         to have a wedding  \n",
       "10864         23202                        housing renovation  \n",
       "10994         23202                        housing renovation  \n",
       "11791         23202                       building a property  \n",
       "12373         23202                           buy real estate  \n",
       "12375         23202                           buy real estate  \n",
       "12736         23202                        to become educated  \n",
       "13025         23202                  second-hand car purchase  \n",
       "13639         23202                                       car  \n",
       "13773         23202                         to have a wedding  \n",
       "13878         23202                     purchase of the house  \n",
       "13942         23202                              car purchase  \n",
       "14432         23202                      getting an education  \n",
       "14832         23202                                  property  \n",
       "15091         23202                          having a wedding  \n",
       "15188         23202                           buy real estate  \n",
       "15273         23202                          wedding ceremony  \n",
       "16176         23202                        housing renovation  \n",
       "16378         23202                      university education  \n",
       "16902         23202                         to have a wedding  \n",
       "16904         23202                  buying a second-hand car  \n",
       "17379         23202  transactions with commercial real estate  \n",
       "17755         23202                        to become educated  \n",
       "17774         23202                    building a real estate  \n",
       "18328         23202               buy residential real estate  \n",
       "18349         23202       purchase of the house for my family  \n",
       "18428         23202                                   housing  \n",
       "18521         23202                         to have a wedding  \n",
       "18563         23202          transactions with my real estate  \n",
       "18755         23202                        to become educated  \n",
       "19041         23202                          having a wedding  \n",
       "19184         23202                              to own a car  \n",
       "19321         23202                  second-hand car purchase  \n",
       "19387         23202                          having a wedding  \n",
       "19688         23202                  real estate transactions  \n",
       "19832         23202                        housing renovation  \n",
       "19946         23202                  second-hand car purchase  \n",
       "20116         23202                          wedding ceremony  \n",
       "20165         23202       purchase of the house for my family  \n",
       "20702         23202                   supplementary education  \n",
       "21032         23202                        to become educated  \n",
       "21132         23202                        housing renovation  \n",
       "21281         23202                buy commercial real estate  \n",
       "21415         23202                      housing transactions  "
      ]
     },
     "execution_count": 20,
     "metadata": {},
     "output_type": "execute_result"
    }
   ],
   "source": [
    "df[df.duplicated()]"
   ]
  },
  {
   "cell_type": "markdown",
   "metadata": {},
   "source": [
    "Now let's use the drop_duplicates() method to drop these rows."
   ]
  },
  {
   "cell_type": "code",
   "execution_count": 21,
   "metadata": {},
   "outputs": [],
   "source": [
    "df = df.drop_duplicates()"
   ]
  },
  {
   "cell_type": "markdown",
   "metadata": {},
   "source": [
    "Let's check that our call to drop_duplicates() worked."
   ]
  },
  {
   "cell_type": "code",
   "execution_count": 22,
   "metadata": {},
   "outputs": [
    {
     "data": {
      "text/plain": [
       "0"
      ]
     },
     "execution_count": 22,
     "metadata": {},
     "output_type": "execute_result"
    }
   ],
   "source": [
    "df.duplicated().sum()"
   ]
  },
  {
   "cell_type": "markdown",
   "metadata": {},
   "source": [
    "### Conclusion"
   ]
  },
  {
   "cell_type": "markdown",
   "metadata": {},
   "source": [
    "Duplicate rows have been dropped."
   ]
  },
  {
   "cell_type": "markdown",
   "metadata": {},
   "source": [
    "## Categorizing Data"
   ]
  },
  {
   "cell_type": "markdown",
   "metadata": {},
   "source": [
    "I would like to find out if a borrower's ability to repay a loan is linked to their income or the amount of children they have.\n",
    "Since the values in some columns are so spread out, analyzing them can be rather tricky.\n",
    "Categorizing the diverse range of column values into a few distinct groups could make the analysis process much simpler and more effective.\n",
    "So I will begin the process of categorization."
   ]
  },
  {
   "cell_type": "markdown",
   "metadata": {},
   "source": [
    "#### Age Categories"
   ]
  },
  {
   "cell_type": "markdown",
   "metadata": {},
   "source": [
    "Let's categorize by age group. "
   ]
  },
  {
   "cell_type": "code",
   "execution_count": 23,
   "metadata": {
    "scrolled": false
   },
   "outputs": [
    {
     "data": {
      "text/plain": [
       "count    21471.000000\n",
       "mean        43.279074\n",
       "std         12.574291\n",
       "min          0.000000\n",
       "25%         33.000000\n",
       "50%         42.000000\n",
       "75%         53.000000\n",
       "max         75.000000\n",
       "Name: dob_years, dtype: float64"
      ]
     },
     "execution_count": 23,
     "metadata": {},
     "output_type": "execute_result"
    }
   ],
   "source": [
    "df['dob_years'].describe()"
   ]
  },
  {
   "cell_type": "code",
   "execution_count": 24,
   "metadata": {},
   "outputs": [
    {
     "data": {
      "text/html": [
       "<div>\n",
       "<style scoped>\n",
       "    .dataframe tbody tr th:only-of-type {\n",
       "        vertical-align: middle;\n",
       "    }\n",
       "\n",
       "    .dataframe tbody tr th {\n",
       "        vertical-align: top;\n",
       "    }\n",
       "\n",
       "    .dataframe thead th {\n",
       "        text-align: right;\n",
       "    }\n",
       "</style>\n",
       "<table border=\"1\" class=\"dataframe\">\n",
       "  <thead>\n",
       "    <tr style=\"text-align: right;\">\n",
       "      <th></th>\n",
       "      <th>children</th>\n",
       "      <th>days_employed</th>\n",
       "      <th>dob_years</th>\n",
       "      <th>education</th>\n",
       "      <th>education_id</th>\n",
       "      <th>family_status</th>\n",
       "      <th>family_status_id</th>\n",
       "      <th>gender</th>\n",
       "      <th>income_type</th>\n",
       "      <th>debt</th>\n",
       "      <th>total_income</th>\n",
       "      <th>purpose</th>\n",
       "    </tr>\n",
       "  </thead>\n",
       "  <tbody>\n",
       "    <tr>\n",
       "      <th>99</th>\n",
       "      <td>0</td>\n",
       "      <td>346541</td>\n",
       "      <td>0</td>\n",
       "      <td>Secondary Education</td>\n",
       "      <td>1</td>\n",
       "      <td>married</td>\n",
       "      <td>0</td>\n",
       "      <td>F</td>\n",
       "      <td>retiree</td>\n",
       "      <td>0</td>\n",
       "      <td>11406</td>\n",
       "      <td>car</td>\n",
       "    </tr>\n",
       "    <tr>\n",
       "      <th>149</th>\n",
       "      <td>0</td>\n",
       "      <td>-2664</td>\n",
       "      <td>0</td>\n",
       "      <td>secondary education</td>\n",
       "      <td>1</td>\n",
       "      <td>divorced</td>\n",
       "      <td>3</td>\n",
       "      <td>F</td>\n",
       "      <td>employee</td>\n",
       "      <td>0</td>\n",
       "      <td>11228</td>\n",
       "      <td>housing transactions</td>\n",
       "    </tr>\n",
       "    <tr>\n",
       "      <th>270</th>\n",
       "      <td>3</td>\n",
       "      <td>-1872</td>\n",
       "      <td>0</td>\n",
       "      <td>secondary education</td>\n",
       "      <td>1</td>\n",
       "      <td>married</td>\n",
       "      <td>0</td>\n",
       "      <td>F</td>\n",
       "      <td>employee</td>\n",
       "      <td>0</td>\n",
       "      <td>16346</td>\n",
       "      <td>housing renovation</td>\n",
       "    </tr>\n",
       "    <tr>\n",
       "      <th>578</th>\n",
       "      <td>0</td>\n",
       "      <td>397856</td>\n",
       "      <td>0</td>\n",
       "      <td>secondary education</td>\n",
       "      <td>1</td>\n",
       "      <td>married</td>\n",
       "      <td>0</td>\n",
       "      <td>F</td>\n",
       "      <td>retiree</td>\n",
       "      <td>0</td>\n",
       "      <td>15619</td>\n",
       "      <td>construction of own property</td>\n",
       "    </tr>\n",
       "    <tr>\n",
       "      <th>1040</th>\n",
       "      <td>0</td>\n",
       "      <td>-1158</td>\n",
       "      <td>0</td>\n",
       "      <td>bachelor's degree</td>\n",
       "      <td>0</td>\n",
       "      <td>divorced</td>\n",
       "      <td>3</td>\n",
       "      <td>F</td>\n",
       "      <td>business</td>\n",
       "      <td>0</td>\n",
       "      <td>48639</td>\n",
       "      <td>to own a car</td>\n",
       "    </tr>\n",
       "  </tbody>\n",
       "</table>\n",
       "</div>"
      ],
      "text/plain": [
       "      children  days_employed  dob_years            education  education_id  \\\n",
       "99           0         346541          0  Secondary Education             1   \n",
       "149          0          -2664          0  secondary education             1   \n",
       "270          3          -1872          0  secondary education             1   \n",
       "578          0         397856          0  secondary education             1   \n",
       "1040         0          -1158          0    bachelor's degree             0   \n",
       "\n",
       "     family_status  family_status_id gender income_type  debt  total_income  \\\n",
       "99         married                 0      F     retiree     0         11406   \n",
       "149       divorced                 3      F    employee     0         11228   \n",
       "270        married                 0      F    employee     0         16346   \n",
       "578        married                 0      F     retiree     0         15619   \n",
       "1040      divorced                 3      F    business     0         48639   \n",
       "\n",
       "                           purpose  \n",
       "99                             car  \n",
       "149           housing transactions  \n",
       "270             housing renovation  \n",
       "578   construction of own property  \n",
       "1040                  to own a car  "
      ]
     },
     "execution_count": 24,
     "metadata": {},
     "output_type": "execute_result"
    }
   ],
   "source": [
    "df[df.dob_years < 18].head()"
   ]
  },
  {
   "cell_type": "code",
   "execution_count": 25,
   "metadata": {
    "scrolled": true
   },
   "outputs": [
    {
     "data": {
      "text/plain": [
       "F    72\n",
       "M    29\n",
       "Name: gender, dtype: int64"
      ]
     },
     "execution_count": 25,
     "metadata": {},
     "output_type": "execute_result"
    }
   ],
   "source": [
    "df[df.dob_years <18]['gender'].value_counts()"
   ]
  },
  {
   "cell_type": "code",
   "execution_count": 26,
   "metadata": {
    "scrolled": true
   },
   "outputs": [
    {
     "data": {
      "text/plain": [
       "F      14189\n",
       "M       7281\n",
       "XNA        1\n",
       "Name: gender, dtype: int64"
      ]
     },
     "execution_count": 26,
     "metadata": {},
     "output_type": "execute_result"
    }
   ],
   "source": [
    "df['gender'].value_counts()"
   ]
  },
  {
   "cell_type": "markdown",
   "metadata": {},
   "source": [
    "The people with an age of 0 (the people who didn't enter their age) are much more likely to be women than the people in the general dataset. This may be because, in general, women are more hesitatnt to reveal their age.\n",
    "\n",
    "This is an example of missing values that are Missing Not at Random. When we make our age groups, the \"Age Undisclosed\" people should have their own category."
   ]
  },
  {
   "cell_type": "markdown",
   "metadata": {},
   "source": [
    "I will start by making a function to help categorize the age values."
   ]
  },
  {
   "cell_type": "code",
   "execution_count": 27,
   "metadata": {},
   "outputs": [],
   "source": [
    "def categorize_age(age):\n",
    "    if age == 0:\n",
    "        return \"Undisclosed\"\n",
    "    elif age < 18:\n",
    "        return \"Minor who somehow got a loan\"\n",
    "    elif age < 30:\n",
    "        return '18-29'\n",
    "    elif age < 39:\n",
    "        return '30-39'\n",
    "    elif age < 49:\n",
    "        return '40-49'\n",
    "    elif age < 59:\n",
    "        return '50-59'\n",
    "    elif age < 69:\n",
    "        return '60-69'\n",
    "    else:\n",
    "        return '70+'"
   ]
  },
  {
   "cell_type": "markdown",
   "metadata": {},
   "source": [
    "To create the age_group column with these categories, I will use the apply() method and apply it to the dob_years column."
   ]
  },
  {
   "cell_type": "code",
   "execution_count": 28,
   "metadata": {
    "scrolled": true
   },
   "outputs": [],
   "source": [
    "df.loc[:, 'age_group'] = df.loc[:, 'dob_years'].apply(categorize_age)"
   ]
  },
  {
   "cell_type": "markdown",
   "metadata": {},
   "source": [
    "Let's check to make sure that worked:"
   ]
  },
  {
   "cell_type": "code",
   "execution_count": 29,
   "metadata": {
    "scrolled": true
   },
   "outputs": [
    {
     "data": {
      "text/html": [
       "<div>\n",
       "<style scoped>\n",
       "    .dataframe tbody tr th:only-of-type {\n",
       "        vertical-align: middle;\n",
       "    }\n",
       "\n",
       "    .dataframe tbody tr th {\n",
       "        vertical-align: top;\n",
       "    }\n",
       "\n",
       "    .dataframe thead th {\n",
       "        text-align: right;\n",
       "    }\n",
       "</style>\n",
       "<table border=\"1\" class=\"dataframe\">\n",
       "  <thead>\n",
       "    <tr style=\"text-align: right;\">\n",
       "      <th></th>\n",
       "      <th>children</th>\n",
       "      <th>days_employed</th>\n",
       "      <th>dob_years</th>\n",
       "      <th>education</th>\n",
       "      <th>education_id</th>\n",
       "      <th>family_status</th>\n",
       "      <th>family_status_id</th>\n",
       "      <th>gender</th>\n",
       "      <th>income_type</th>\n",
       "      <th>debt</th>\n",
       "      <th>total_income</th>\n",
       "      <th>purpose</th>\n",
       "      <th>age_group</th>\n",
       "    </tr>\n",
       "  </thead>\n",
       "  <tbody>\n",
       "    <tr>\n",
       "      <th>0</th>\n",
       "      <td>1</td>\n",
       "      <td>-8437</td>\n",
       "      <td>42</td>\n",
       "      <td>bachelor's degree</td>\n",
       "      <td>0</td>\n",
       "      <td>married</td>\n",
       "      <td>0</td>\n",
       "      <td>F</td>\n",
       "      <td>employee</td>\n",
       "      <td>0</td>\n",
       "      <td>40620</td>\n",
       "      <td>purchase of the house</td>\n",
       "      <td>40-49</td>\n",
       "    </tr>\n",
       "    <tr>\n",
       "      <th>1</th>\n",
       "      <td>1</td>\n",
       "      <td>-4024</td>\n",
       "      <td>36</td>\n",
       "      <td>secondary education</td>\n",
       "      <td>1</td>\n",
       "      <td>married</td>\n",
       "      <td>0</td>\n",
       "      <td>F</td>\n",
       "      <td>employee</td>\n",
       "      <td>0</td>\n",
       "      <td>17932</td>\n",
       "      <td>car purchase</td>\n",
       "      <td>30-39</td>\n",
       "    </tr>\n",
       "    <tr>\n",
       "      <th>2</th>\n",
       "      <td>0</td>\n",
       "      <td>-5623</td>\n",
       "      <td>33</td>\n",
       "      <td>Secondary Education</td>\n",
       "      <td>1</td>\n",
       "      <td>married</td>\n",
       "      <td>0</td>\n",
       "      <td>M</td>\n",
       "      <td>employee</td>\n",
       "      <td>0</td>\n",
       "      <td>23341</td>\n",
       "      <td>purchase of the house</td>\n",
       "      <td>30-39</td>\n",
       "    </tr>\n",
       "    <tr>\n",
       "      <th>3</th>\n",
       "      <td>3</td>\n",
       "      <td>-4124</td>\n",
       "      <td>32</td>\n",
       "      <td>secondary education</td>\n",
       "      <td>1</td>\n",
       "      <td>married</td>\n",
       "      <td>0</td>\n",
       "      <td>M</td>\n",
       "      <td>employee</td>\n",
       "      <td>0</td>\n",
       "      <td>42820</td>\n",
       "      <td>supplementary education</td>\n",
       "      <td>30-39</td>\n",
       "    </tr>\n",
       "    <tr>\n",
       "      <th>4</th>\n",
       "      <td>0</td>\n",
       "      <td>340266</td>\n",
       "      <td>53</td>\n",
       "      <td>secondary education</td>\n",
       "      <td>1</td>\n",
       "      <td>civil partnership</td>\n",
       "      <td>1</td>\n",
       "      <td>F</td>\n",
       "      <td>retiree</td>\n",
       "      <td>0</td>\n",
       "      <td>25378</td>\n",
       "      <td>to have a wedding</td>\n",
       "      <td>50-59</td>\n",
       "    </tr>\n",
       "  </tbody>\n",
       "</table>\n",
       "</div>"
      ],
      "text/plain": [
       "   children  days_employed  dob_years            education  education_id  \\\n",
       "0         1          -8437         42    bachelor's degree             0   \n",
       "1         1          -4024         36  secondary education             1   \n",
       "2         0          -5623         33  Secondary Education             1   \n",
       "3         3          -4124         32  secondary education             1   \n",
       "4         0         340266         53  secondary education             1   \n",
       "\n",
       "       family_status  family_status_id gender income_type  debt  total_income  \\\n",
       "0            married                 0      F    employee     0         40620   \n",
       "1            married                 0      F    employee     0         17932   \n",
       "2            married                 0      M    employee     0         23341   \n",
       "3            married                 0      M    employee     0         42820   \n",
       "4  civil partnership                 1      F     retiree     0         25378   \n",
       "\n",
       "                   purpose age_group  \n",
       "0    purchase of the house     40-49  \n",
       "1             car purchase     30-39  \n",
       "2    purchase of the house     30-39  \n",
       "3  supplementary education     30-39  \n",
       "4        to have a wedding     50-59  "
      ]
     },
     "execution_count": 29,
     "metadata": {},
     "output_type": "execute_result"
    }
   ],
   "source": [
    "df.head()"
   ]
  },
  {
   "cell_type": "code",
   "execution_count": 30,
   "metadata": {
    "scrolled": true
   },
   "outputs": [
    {
     "data": {
      "text/plain": [
       "40-49          5422\n",
       "30-39          5091\n",
       "50-59          4727\n",
       "18-29          3181\n",
       "60-69          2693\n",
       "70+             256\n",
       "Undisclosed     101\n",
       "Name: age_group, dtype: int64"
      ]
     },
     "execution_count": 30,
     "metadata": {},
     "output_type": "execute_result"
    }
   ],
   "source": [
    "df['age_group'].value_counts()"
   ]
  },
  {
   "cell_type": "markdown",
   "metadata": {},
   "source": [
    "Great! It worked!"
   ]
  },
  {
   "cell_type": "markdown",
   "metadata": {},
   "source": [
    "#### Income Categories"
   ]
  },
  {
   "cell_type": "markdown",
   "metadata": {},
   "source": [
    "Now let's categorize borrowers by income. First, I will take a peek at the distribution of incomes:"
   ]
  },
  {
   "cell_type": "code",
   "execution_count": 31,
   "metadata": {},
   "outputs": [
    {
     "data": {
      "text/plain": [
       "count     21471.000000\n",
       "mean      26433.089097\n",
       "std       15677.424382\n",
       "min        3306.000000\n",
       "25%       17224.500000\n",
       "50%       23202.000000\n",
       "75%       31320.000000\n",
       "max      362496.000000\n",
       "Name: total_income, dtype: float64"
      ]
     },
     "execution_count": 31,
     "metadata": {},
     "output_type": "execute_result"
    }
   ],
   "source": [
    "df.total_income.describe()"
   ]
  },
  {
   "cell_type": "markdown",
   "metadata": {},
   "source": [
    "Okay, great! The minimum income is 3306, so I don't need to worry about the \"value of zero\" problem that I dealt with when making age group categories.\n",
    "\n",
    "I'll make my groups as follows:\n",
    "- Less than 10,000\n",
    "- 10,000 to 20,000\n",
    "- 20,000 to 30,000\n",
    "- 30,000 to 40,000\n",
    "- 40,000 to 50,000\n",
    "- 50,000 to 100,000\n",
    "- 100,000+\n",
    "\n",
    "I will start by making a function to help categorize the incomes."
   ]
  },
  {
   "cell_type": "code",
   "execution_count": 32,
   "metadata": {},
   "outputs": [],
   "source": [
    "def categorize_income(income):\n",
    "    if income < 20000:\n",
    "        return 'Below 20,000'\n",
    "    elif income < 30000:\n",
    "        return 'From 20,000 to 30,000'\n",
    "    elif income < 40000:\n",
    "        return 'From 30,000 to 40,000'\n",
    "    elif income < 50000:\n",
    "        return 'From 40,000 to 50,000'\n",
    "    elif income > 50000:\n",
    "        return 'Over 50,000'\n",
    "    else:\n",
    "        return \"Categorization Error\""
   ]
  },
  {
   "cell_type": "markdown",
   "metadata": {},
   "source": [
    "To create the income_group column with these categories, I will use the apply() method and apply it to the total_income column."
   ]
  },
  {
   "cell_type": "code",
   "execution_count": 33,
   "metadata": {},
   "outputs": [],
   "source": [
    "df.loc[:, 'income_group'] = df.loc[:, 'total_income'].apply(categorize_income)"
   ]
  },
  {
   "cell_type": "markdown",
   "metadata": {},
   "source": [
    "Let's check to make sure that worked:"
   ]
  },
  {
   "cell_type": "code",
   "execution_count": 34,
   "metadata": {},
   "outputs": [
    {
     "data": {
      "text/html": [
       "<div>\n",
       "<style scoped>\n",
       "    .dataframe tbody tr th:only-of-type {\n",
       "        vertical-align: middle;\n",
       "    }\n",
       "\n",
       "    .dataframe tbody tr th {\n",
       "        vertical-align: top;\n",
       "    }\n",
       "\n",
       "    .dataframe thead th {\n",
       "        text-align: right;\n",
       "    }\n",
       "</style>\n",
       "<table border=\"1\" class=\"dataframe\">\n",
       "  <thead>\n",
       "    <tr style=\"text-align: right;\">\n",
       "      <th></th>\n",
       "      <th>children</th>\n",
       "      <th>days_employed</th>\n",
       "      <th>dob_years</th>\n",
       "      <th>education</th>\n",
       "      <th>education_id</th>\n",
       "      <th>family_status</th>\n",
       "      <th>family_status_id</th>\n",
       "      <th>gender</th>\n",
       "      <th>income_type</th>\n",
       "      <th>debt</th>\n",
       "      <th>total_income</th>\n",
       "      <th>purpose</th>\n",
       "      <th>age_group</th>\n",
       "      <th>income_group</th>\n",
       "    </tr>\n",
       "  </thead>\n",
       "  <tbody>\n",
       "    <tr>\n",
       "      <th>0</th>\n",
       "      <td>1</td>\n",
       "      <td>-8437</td>\n",
       "      <td>42</td>\n",
       "      <td>bachelor's degree</td>\n",
       "      <td>0</td>\n",
       "      <td>married</td>\n",
       "      <td>0</td>\n",
       "      <td>F</td>\n",
       "      <td>employee</td>\n",
       "      <td>0</td>\n",
       "      <td>40620</td>\n",
       "      <td>purchase of the house</td>\n",
       "      <td>40-49</td>\n",
       "      <td>From 40,000 to 50,000</td>\n",
       "    </tr>\n",
       "    <tr>\n",
       "      <th>1</th>\n",
       "      <td>1</td>\n",
       "      <td>-4024</td>\n",
       "      <td>36</td>\n",
       "      <td>secondary education</td>\n",
       "      <td>1</td>\n",
       "      <td>married</td>\n",
       "      <td>0</td>\n",
       "      <td>F</td>\n",
       "      <td>employee</td>\n",
       "      <td>0</td>\n",
       "      <td>17932</td>\n",
       "      <td>car purchase</td>\n",
       "      <td>30-39</td>\n",
       "      <td>Below 20,000</td>\n",
       "    </tr>\n",
       "    <tr>\n",
       "      <th>2</th>\n",
       "      <td>0</td>\n",
       "      <td>-5623</td>\n",
       "      <td>33</td>\n",
       "      <td>Secondary Education</td>\n",
       "      <td>1</td>\n",
       "      <td>married</td>\n",
       "      <td>0</td>\n",
       "      <td>M</td>\n",
       "      <td>employee</td>\n",
       "      <td>0</td>\n",
       "      <td>23341</td>\n",
       "      <td>purchase of the house</td>\n",
       "      <td>30-39</td>\n",
       "      <td>From 20,000 to 30,000</td>\n",
       "    </tr>\n",
       "    <tr>\n",
       "      <th>3</th>\n",
       "      <td>3</td>\n",
       "      <td>-4124</td>\n",
       "      <td>32</td>\n",
       "      <td>secondary education</td>\n",
       "      <td>1</td>\n",
       "      <td>married</td>\n",
       "      <td>0</td>\n",
       "      <td>M</td>\n",
       "      <td>employee</td>\n",
       "      <td>0</td>\n",
       "      <td>42820</td>\n",
       "      <td>supplementary education</td>\n",
       "      <td>30-39</td>\n",
       "      <td>From 40,000 to 50,000</td>\n",
       "    </tr>\n",
       "    <tr>\n",
       "      <th>4</th>\n",
       "      <td>0</td>\n",
       "      <td>340266</td>\n",
       "      <td>53</td>\n",
       "      <td>secondary education</td>\n",
       "      <td>1</td>\n",
       "      <td>civil partnership</td>\n",
       "      <td>1</td>\n",
       "      <td>F</td>\n",
       "      <td>retiree</td>\n",
       "      <td>0</td>\n",
       "      <td>25378</td>\n",
       "      <td>to have a wedding</td>\n",
       "      <td>50-59</td>\n",
       "      <td>From 20,000 to 30,000</td>\n",
       "    </tr>\n",
       "  </tbody>\n",
       "</table>\n",
       "</div>"
      ],
      "text/plain": [
       "   children  days_employed  dob_years            education  education_id  \\\n",
       "0         1          -8437         42    bachelor's degree             0   \n",
       "1         1          -4024         36  secondary education             1   \n",
       "2         0          -5623         33  Secondary Education             1   \n",
       "3         3          -4124         32  secondary education             1   \n",
       "4         0         340266         53  secondary education             1   \n",
       "\n",
       "       family_status  family_status_id gender income_type  debt  total_income  \\\n",
       "0            married                 0      F    employee     0         40620   \n",
       "1            married                 0      F    employee     0         17932   \n",
       "2            married                 0      M    employee     0         23341   \n",
       "3            married                 0      M    employee     0         42820   \n",
       "4  civil partnership                 1      F     retiree     0         25378   \n",
       "\n",
       "                   purpose age_group           income_group  \n",
       "0    purchase of the house     40-49  From 40,000 to 50,000  \n",
       "1             car purchase     30-39           Below 20,000  \n",
       "2    purchase of the house     30-39  From 20,000 to 30,000  \n",
       "3  supplementary education     30-39  From 40,000 to 50,000  \n",
       "4        to have a wedding     50-59  From 20,000 to 30,000  "
      ]
     },
     "execution_count": 34,
     "metadata": {},
     "output_type": "execute_result"
    }
   ],
   "source": [
    "df.head()"
   ]
  },
  {
   "cell_type": "code",
   "execution_count": 35,
   "metadata": {
    "scrolled": true
   },
   "outputs": [
    {
     "data": {
      "text/plain": [
       "From 20,000 to 30,000    8183\n",
       "Below 20,000             7369\n",
       "From 30,000 to 40,000    3107\n",
       "From 40,000 to 50,000    1492\n",
       "Over 50,000              1320\n",
       "Name: income_group, dtype: int64"
      ]
     },
     "execution_count": 35,
     "metadata": {},
     "output_type": "execute_result"
    }
   ],
   "source": [
    "df['income_group'].value_counts()"
   ]
  },
  {
   "cell_type": "markdown",
   "metadata": {},
   "source": [
    "Great! It works!"
   ]
  },
  {
   "cell_type": "markdown",
   "metadata": {},
   "source": [
    "#### Children Categories"
   ]
  },
  {
   "cell_type": "markdown",
   "metadata": {},
   "source": [
    "Okay, now let's move on to categorizing the values in the children column. First, let's use value_counts() to see which values are in the column: "
   ]
  },
  {
   "cell_type": "code",
   "execution_count": 36,
   "metadata": {
    "scrolled": true
   },
   "outputs": [
    {
     "data": {
      "text/plain": [
       " 0     14107\n",
       " 1      4809\n",
       " 2      2052\n",
       " 3       330\n",
       " 20       76\n",
       "-1        47\n",
       " 4        41\n",
       " 5         9\n",
       "Name: children, dtype: int64"
      ]
     },
     "execution_count": 36,
     "metadata": {},
     "output_type": "execute_result"
    }
   ],
   "source": [
    "df['children'].value_counts()"
   ]
  },
  {
   "cell_type": "markdown",
   "metadata": {},
   "source": [
    "Most people have between 0 and 5 children. Seventy six people are listed as having 20 children. It's tempting to think this is some sort of input error. But such large families actually exist in real life, so I'll keep the \"20 children\" values as they are.\n",
    "\n",
    "Some people are listed as having -1 children. Now that's impossible. This is most likely an input error. **I will make the assumption that these people intended to claim that they have 1 child. I will now use the loc method to edit the data accordingly**."
   ]
  },
  {
   "cell_type": "code",
   "execution_count": 37,
   "metadata": {},
   "outputs": [],
   "source": [
    "df.loc[df.children == -1, 'children'] = 1"
   ]
  },
  {
   "cell_type": "markdown",
   "metadata": {},
   "source": [
    "Let's check that this worked:"
   ]
  },
  {
   "cell_type": "code",
   "execution_count": 38,
   "metadata": {
    "scrolled": true
   },
   "outputs": [
    {
     "data": {
      "text/plain": [
       "0     14107\n",
       "1      4856\n",
       "2      2052\n",
       "3       330\n",
       "20       76\n",
       "4        41\n",
       "5         9\n",
       "Name: children, dtype: int64"
      ]
     },
     "execution_count": 38,
     "metadata": {},
     "output_type": "execute_result"
    }
   ],
   "source": [
    "df['children'].value_counts()"
   ]
  },
  {
   "cell_type": "markdown",
   "metadata": {},
   "source": [
    "Great! No negative children anymore. Now I will create the following categories for the children values:\n",
    "- \"No children\"\n",
    "- \"1 to 2 children\"\n",
    "- \"3+ children\"\n",
    "\n",
    "I will first write a function to help me create the categories."
   ]
  },
  {
   "cell_type": "code",
   "execution_count": 39,
   "metadata": {},
   "outputs": [],
   "source": [
    "def categorize_children(children):\n",
    "    if children == 0:\n",
    "        return \"No children\"\n",
    "    elif 0 < children <= 2:\n",
    "        return \"1 to 2 children\"\n",
    "    elif children >= 3:\n",
    "        return \"3+ children\"\n",
    "    else:\n",
    "        return \"Categorization Error\""
   ]
  },
  {
   "cell_type": "markdown",
   "metadata": {},
   "source": [
    "Now I will create a children_group column by applying my function to the children column."
   ]
  },
  {
   "cell_type": "code",
   "execution_count": 40,
   "metadata": {},
   "outputs": [],
   "source": [
    "df['children_group'] = df['children'].apply(categorize_children)"
   ]
  },
  {
   "cell_type": "markdown",
   "metadata": {},
   "source": [
    "Let's check that the children_group column was made and that the value counts for this column make sense:"
   ]
  },
  {
   "cell_type": "code",
   "execution_count": 41,
   "metadata": {
    "scrolled": true
   },
   "outputs": [
    {
     "data": {
      "text/html": [
       "<div>\n",
       "<style scoped>\n",
       "    .dataframe tbody tr th:only-of-type {\n",
       "        vertical-align: middle;\n",
       "    }\n",
       "\n",
       "    .dataframe tbody tr th {\n",
       "        vertical-align: top;\n",
       "    }\n",
       "\n",
       "    .dataframe thead th {\n",
       "        text-align: right;\n",
       "    }\n",
       "</style>\n",
       "<table border=\"1\" class=\"dataframe\">\n",
       "  <thead>\n",
       "    <tr style=\"text-align: right;\">\n",
       "      <th></th>\n",
       "      <th>children</th>\n",
       "      <th>days_employed</th>\n",
       "      <th>dob_years</th>\n",
       "      <th>education</th>\n",
       "      <th>education_id</th>\n",
       "      <th>family_status</th>\n",
       "      <th>family_status_id</th>\n",
       "      <th>gender</th>\n",
       "      <th>income_type</th>\n",
       "      <th>debt</th>\n",
       "      <th>total_income</th>\n",
       "      <th>purpose</th>\n",
       "      <th>age_group</th>\n",
       "      <th>income_group</th>\n",
       "      <th>children_group</th>\n",
       "    </tr>\n",
       "  </thead>\n",
       "  <tbody>\n",
       "    <tr>\n",
       "      <th>0</th>\n",
       "      <td>1</td>\n",
       "      <td>-8437</td>\n",
       "      <td>42</td>\n",
       "      <td>bachelor's degree</td>\n",
       "      <td>0</td>\n",
       "      <td>married</td>\n",
       "      <td>0</td>\n",
       "      <td>F</td>\n",
       "      <td>employee</td>\n",
       "      <td>0</td>\n",
       "      <td>40620</td>\n",
       "      <td>purchase of the house</td>\n",
       "      <td>40-49</td>\n",
       "      <td>From 40,000 to 50,000</td>\n",
       "      <td>1 to 2 children</td>\n",
       "    </tr>\n",
       "    <tr>\n",
       "      <th>1</th>\n",
       "      <td>1</td>\n",
       "      <td>-4024</td>\n",
       "      <td>36</td>\n",
       "      <td>secondary education</td>\n",
       "      <td>1</td>\n",
       "      <td>married</td>\n",
       "      <td>0</td>\n",
       "      <td>F</td>\n",
       "      <td>employee</td>\n",
       "      <td>0</td>\n",
       "      <td>17932</td>\n",
       "      <td>car purchase</td>\n",
       "      <td>30-39</td>\n",
       "      <td>Below 20,000</td>\n",
       "      <td>1 to 2 children</td>\n",
       "    </tr>\n",
       "    <tr>\n",
       "      <th>2</th>\n",
       "      <td>0</td>\n",
       "      <td>-5623</td>\n",
       "      <td>33</td>\n",
       "      <td>Secondary Education</td>\n",
       "      <td>1</td>\n",
       "      <td>married</td>\n",
       "      <td>0</td>\n",
       "      <td>M</td>\n",
       "      <td>employee</td>\n",
       "      <td>0</td>\n",
       "      <td>23341</td>\n",
       "      <td>purchase of the house</td>\n",
       "      <td>30-39</td>\n",
       "      <td>From 20,000 to 30,000</td>\n",
       "      <td>No children</td>\n",
       "    </tr>\n",
       "    <tr>\n",
       "      <th>3</th>\n",
       "      <td>3</td>\n",
       "      <td>-4124</td>\n",
       "      <td>32</td>\n",
       "      <td>secondary education</td>\n",
       "      <td>1</td>\n",
       "      <td>married</td>\n",
       "      <td>0</td>\n",
       "      <td>M</td>\n",
       "      <td>employee</td>\n",
       "      <td>0</td>\n",
       "      <td>42820</td>\n",
       "      <td>supplementary education</td>\n",
       "      <td>30-39</td>\n",
       "      <td>From 40,000 to 50,000</td>\n",
       "      <td>3+ children</td>\n",
       "    </tr>\n",
       "    <tr>\n",
       "      <th>4</th>\n",
       "      <td>0</td>\n",
       "      <td>340266</td>\n",
       "      <td>53</td>\n",
       "      <td>secondary education</td>\n",
       "      <td>1</td>\n",
       "      <td>civil partnership</td>\n",
       "      <td>1</td>\n",
       "      <td>F</td>\n",
       "      <td>retiree</td>\n",
       "      <td>0</td>\n",
       "      <td>25378</td>\n",
       "      <td>to have a wedding</td>\n",
       "      <td>50-59</td>\n",
       "      <td>From 20,000 to 30,000</td>\n",
       "      <td>No children</td>\n",
       "    </tr>\n",
       "  </tbody>\n",
       "</table>\n",
       "</div>"
      ],
      "text/plain": [
       "   children  days_employed  dob_years            education  education_id  \\\n",
       "0         1          -8437         42    bachelor's degree             0   \n",
       "1         1          -4024         36  secondary education             1   \n",
       "2         0          -5623         33  Secondary Education             1   \n",
       "3         3          -4124         32  secondary education             1   \n",
       "4         0         340266         53  secondary education             1   \n",
       "\n",
       "       family_status  family_status_id gender income_type  debt  total_income  \\\n",
       "0            married                 0      F    employee     0         40620   \n",
       "1            married                 0      F    employee     0         17932   \n",
       "2            married                 0      M    employee     0         23341   \n",
       "3            married                 0      M    employee     0         42820   \n",
       "4  civil partnership                 1      F     retiree     0         25378   \n",
       "\n",
       "                   purpose age_group           income_group   children_group  \n",
       "0    purchase of the house     40-49  From 40,000 to 50,000  1 to 2 children  \n",
       "1             car purchase     30-39           Below 20,000  1 to 2 children  \n",
       "2    purchase of the house     30-39  From 20,000 to 30,000      No children  \n",
       "3  supplementary education     30-39  From 40,000 to 50,000      3+ children  \n",
       "4        to have a wedding     50-59  From 20,000 to 30,000      No children  "
      ]
     },
     "execution_count": 41,
     "metadata": {},
     "output_type": "execute_result"
    }
   ],
   "source": [
    "df.head()"
   ]
  },
  {
   "cell_type": "code",
   "execution_count": 42,
   "metadata": {
    "scrolled": true
   },
   "outputs": [
    {
     "data": {
      "text/plain": [
       "No children        14107\n",
       "1 to 2 children     6908\n",
       "3+ children          456\n",
       "Name: children_group, dtype: int64"
      ]
     },
     "execution_count": 42,
     "metadata": {},
     "output_type": "execute_result"
    }
   ],
   "source": [
    "df['children_group'].value_counts()"
   ]
  },
  {
   "cell_type": "markdown",
   "metadata": {},
   "source": [
    "Everything worked! Hooray!"
   ]
  },
  {
   "cell_type": "markdown",
   "metadata": {},
   "source": [
    "#### Purpose Categories"
   ]
  },
  {
   "cell_type": "markdown",
   "metadata": {},
   "source": [
    "Now the only column I still need to categorize is the purpose column. This column would be hard to categorize directly since all of the values are phrases of multiple words.\n",
    "So I will first lemmatize those object (string) values into lists of individual root words.\n",
    "\n",
    "I will create a column called 'reason' where I will store these lists."
   ]
  },
  {
   "cell_type": "code",
   "execution_count": 43,
   "metadata": {},
   "outputs": [],
   "source": [
    "import nltk\n",
    "from nltk.stem import WordNetLemmatizer\n",
    "\n",
    "wordnet_lemma = WordNetLemmatizer()"
   ]
  },
  {
   "cell_type": "code",
   "execution_count": 44,
   "metadata": {},
   "outputs": [],
   "source": [
    "def lemmatize_purpose(purpose):\n",
    "    purpose = purpose.split(' ')\n",
    "    lemmas = [wordnet_lemma.lemmatize(word, pos='n') for word in purpose]\n",
    "    return lemmas"
   ]
  },
  {
   "cell_type": "code",
   "execution_count": 45,
   "metadata": {},
   "outputs": [],
   "source": [
    "df['reason'] = df['purpose'].apply(lemmatize_purpose)"
   ]
  },
  {
   "cell_type": "markdown",
   "metadata": {},
   "source": [
    "Let's check that the column was created:"
   ]
  },
  {
   "cell_type": "code",
   "execution_count": 46,
   "metadata": {
    "scrolled": true
   },
   "outputs": [
    {
     "data": {
      "text/plain": [
       "0        [purchase, of, the, house]\n",
       "1                   [car, purchase]\n",
       "2        [purchase, of, the, house]\n",
       "3        [supplementary, education]\n",
       "4            [to, have, a, wedding]\n",
       "                    ...            \n",
       "21520        [housing, transaction]\n",
       "21521        [purchase, of, a, car]\n",
       "21522                    [property]\n",
       "21523        [buying, my, own, car]\n",
       "21524             [to, buy, a, car]\n",
       "Name: reason, Length: 21471, dtype: object"
      ]
     },
     "execution_count": 46,
     "metadata": {},
     "output_type": "execute_result"
    }
   ],
   "source": [
    "df['reason']"
   ]
  },
  {
   "cell_type": "markdown",
   "metadata": {},
   "source": [
    "I want to see what the most common words in the 'reason' column are. I will create a Counter object that counts each word and how frequently it appears. I will loop through each list in the 'reason' column and add it to the Counter using the update() function."
   ]
  },
  {
   "cell_type": "code",
   "execution_count": 47,
   "metadata": {},
   "outputs": [
    {
     "name": "stdout",
     "output_type": "stream",
     "text": [
      "Counter({'a': 5117, 'real': 4466, 'estate': 4466, 'car': 4308, 'purchase': 3306, 'education': 3110, 'to': 3071, 'of': 2994, 'transaction': 2604, 'property': 2539, 'my': 2390, 'buy': 2361, 'wedding': 2335, 'own': 2239, 'housing': 1905, 'house': 1904, 'buying': 1635, 'commercial': 1312, 'for': 1290, 'the': 1284, 'with': 1277, 'building': 1244, 'second-hand': 964, 'university': 948, 'supplementary': 907, 'getting': 868, 'ceremony': 793, 'having': 773, 'have': 769, 'renting': 652, 'out': 652, 'family': 638, 'construction': 635, 'renovation': 607, 'residential': 606, 'going': 496, 'get': 447, 'an': 442, 'profile': 436, 'higher': 426, 'become': 408, 'educated': 408})\n"
     ]
    }
   ],
   "source": [
    "import collections\n",
    "from collections import Counter\n",
    "\n",
    "reason_counts = Counter()\n",
    "for reason_list in df['reason']:\n",
    "    reason_counts.update(reason_list)\n",
    "\n",
    "print(reason_counts)"
   ]
  },
  {
   "cell_type": "markdown",
   "metadata": {},
   "source": [
    "It seems like real estate, cars, education, weddings, building/construction/renovation, and housing/renting are the most common reasons for borrowing money. I want to categorize each borrower by the main reason they borrowed money. To do this, I will create a function that takes in the list in the 'reason' column and returns a category."
   ]
  },
  {
   "cell_type": "code",
   "execution_count": 48,
   "metadata": {},
   "outputs": [],
   "source": [
    "def categorize_reason(reason_list):\n",
    "    if 'wedding' in reason_list:\n",
    "        return \"Wedding\"\n",
    "    elif 'education' in reason_list or 'educated' in reason_list or 'university' in reason_list:\n",
    "        return \"Education\"\n",
    "    elif 'car' in reason_list:\n",
    "        return \"Car\"\n",
    "    elif 'construction' in reason_list or 'renovation' in reason_list or 'building' in reason_list:\n",
    "        return \"Construction and Renovation\"\n",
    "    elif 'commercial' in reason_list or 'renting' in reason_list:\n",
    "        return \"Commercial Real Estate\"\n",
    "    elif 'estate' in reason_list or 'property' in reason_list or 'house' in reason_list:\n",
    "        return \"Real Estate\"\n",
    "    elif 'housing' in reason_list:\n",
    "        return \"Other Housing\"\n",
    "    else:\n",
    "        return \"Category Undetermined\""
   ]
  },
  {
   "cell_type": "markdown",
   "metadata": {},
   "source": [
    "Now I will create a column called 'reason_group' with the categories I just made by using apply() to apply the categorize_reason() function to the 'reason' column."
   ]
  },
  {
   "cell_type": "code",
   "execution_count": 49,
   "metadata": {},
   "outputs": [],
   "source": [
    "df['reason_group'] = df['reason'].apply(categorize_reason)"
   ]
  },
  {
   "cell_type": "markdown",
   "metadata": {},
   "source": [
    "Let's check that this worked:"
   ]
  },
  {
   "cell_type": "code",
   "execution_count": 50,
   "metadata": {
    "scrolled": false
   },
   "outputs": [
    {
     "data": {
      "text/plain": [
       "Real Estate                    5066\n",
       "Car                            4308\n",
       "Education                      4014\n",
       "Construction and Renovation    2486\n",
       "Wedding                        2335\n",
       "Commercial Real Estate         1964\n",
       "Other Housing                  1298\n",
       "Name: reason_group, dtype: int64"
      ]
     },
     "execution_count": 50,
     "metadata": {},
     "output_type": "execute_result"
    }
   ],
   "source": [
    "df['reason_group'].value_counts()"
   ]
  },
  {
   "cell_type": "markdown",
   "metadata": {},
   "source": [
    "The column was created, and all the borrowers were categorized by their reason for borrowing. Hooray!"
   ]
  },
  {
   "cell_type": "markdown",
   "metadata": {},
   "source": [
    "### Conclusion"
   ]
  },
  {
   "cell_type": "markdown",
   "metadata": {},
   "source": [
    "#### Age Categories\n",
    "\n",
    "I have now sorted the ages in the dob_years column into age categories.\n",
    "\n",
    "Along the way, I found a surprise: some values in the dob_years column were listed as being 0 years of age.\n",
    "As far as I know, newborn babies can't just walk up to a bank and demand the banker give them a loan. (Well, maybe if they cried and made a really cute face, they could get the banker to give a few dollars out of sympathy).\n",
    "\n",
    "What's far more likely is that some people didn't want to fill in a value for their age, so they left it blank. This blank value then somehow turned into a zero.\n",
    "It's tempting to delete these values from the dataset or impute them with the median age.\n",
    "But these values are Missing **NOT** at Random: It's well known that many women would rather not disclose their age. Indeed, the people in this dataset who did not disclose their age are **far** more likely to identify as women than the people in the general dataset.\n",
    "So instead of imputing these values, I created my own category for these people called \"Undisclosed\".\n",
    "\n",
    "After using the value_counts() function to peek at the age distributions, here's what I found:\n",
    "- The most common age group is people in their 30s and 40s.\n",
    "- Most borrowers are between the ages of 18 and 69. Only a handful (256) are over 70, and a few (101) refused to disclose their ages.\n",
    "\n",
    "\n",
    "#### Income Categories\n",
    "\n",
    "Then I repeated the categorization process for the income distributions. After using the value_counts() function to peek at the income distributions, I found that most people made an income between 10,000 and 30,000."
   ]
  },
  {
   "cell_type": "markdown",
   "metadata": {},
   "source": [
    "#### Children Categories\n",
    "\n",
    "Most borrowers do not have children. Some had 1 or 2 children. Only a small minority of the borrowers had three or more children."
   ]
  },
  {
   "cell_type": "markdown",
   "metadata": {},
   "source": [
    "#### Purpose Categories\n",
    "\n",
    "To categorize the strings in the 'purpose' column, I first split the strings into lists of individual words. I lemmatized the words (so that the words 'houses' and 'house' both get stored as 'house'), then created a column called 'reason' to store these lemmatized words.\n",
    "Lastly, I categorized by the lemmatized words in the 'reason' column.\n",
    "\n",
    "People usually chose to borrow money for one of the following reasons:\n",
    "- Buying a house\n",
    "- Renovating a house\n",
    "- Buying a car\n",
    "- Paying for education\n",
    "- Paying for housing\n",
    "- Paying for a wedding"
   ]
  },
  {
   "cell_type": "markdown",
   "metadata": {},
   "source": [
    "## Factors Related to Loan Repayment"
   ]
  },
  {
   "cell_type": "markdown",
   "metadata": {},
   "source": [
    "### Is there a relation between having kids and repaying a loan on time?"
   ]
  },
  {
   "cell_type": "code",
   "execution_count": 51,
   "metadata": {
    "scrolled": false
   },
   "outputs": [
    {
     "data": {
      "text/html": [
       "<div>\n",
       "<style scoped>\n",
       "    .dataframe tbody tr th:only-of-type {\n",
       "        vertical-align: middle;\n",
       "    }\n",
       "\n",
       "    .dataframe tbody tr th {\n",
       "        vertical-align: top;\n",
       "    }\n",
       "\n",
       "    .dataframe thead th {\n",
       "        text-align: right;\n",
       "    }\n",
       "</style>\n",
       "<table border=\"1\" class=\"dataframe\">\n",
       "  <thead>\n",
       "    <tr style=\"text-align: right;\">\n",
       "      <th></th>\n",
       "      <th>debt</th>\n",
       "    </tr>\n",
       "    <tr>\n",
       "      <th>children_group</th>\n",
       "      <th></th>\n",
       "    </tr>\n",
       "  </thead>\n",
       "  <tbody>\n",
       "    <tr>\n",
       "      <th>1 to 2 children</th>\n",
       "      <td>0.092501</td>\n",
       "    </tr>\n",
       "    <tr>\n",
       "      <th>3+ children</th>\n",
       "      <td>0.085526</td>\n",
       "    </tr>\n",
       "    <tr>\n",
       "      <th>No children</th>\n",
       "      <td>0.075353</td>\n",
       "    </tr>\n",
       "  </tbody>\n",
       "</table>\n",
       "</div>"
      ],
      "text/plain": [
       "                     debt\n",
       "children_group           \n",
       "1 to 2 children  0.092501\n",
       "3+ children      0.085526\n",
       "No children      0.075353"
      ]
     },
     "execution_count": 51,
     "metadata": {},
     "output_type": "execute_result"
    }
   ],
   "source": [
    "df.pivot_table(\n",
    "    index = 'children_group',\n",
    "    values = 'debt',\n",
    "    aggfunc = 'mean'\n",
    ")"
   ]
  },
  {
   "cell_type": "markdown",
   "metadata": {},
   "source": [
    "The rate of default is 7.5% for borrowers without children, 9.3% for borrowers with one to two children, and 8.6% for borrowers with three or more children.\n",
    "\n",
    "*Conclusion: From the data, it appears that borrowers without children are more likely to pay back loans on time than people with children.*"
   ]
  },
  {
   "cell_type": "markdown",
   "metadata": {},
   "source": [
    "### Is there a relation between marital status and repaying a loan on time?"
   ]
  },
  {
   "cell_type": "markdown",
   "metadata": {},
   "source": [
    "Note: The rate of default is the average of the values in the 'debt' column."
   ]
  },
  {
   "cell_type": "markdown",
   "metadata": {},
   "source": [
    "The unmarried have the highest rate of default at 9.8%. The odds of default slightly decrease to 9.3% for borrowers in civil partnerships.\n",
    "\n",
    "The married only default 7.5% of the time, and the divorced only default 7.1% of the time.\n",
    "Widows and widowers have the lowest rates of default, at just 6.6%."
   ]
  },
  {
   "cell_type": "code",
   "execution_count": 52,
   "metadata": {},
   "outputs": [
    {
     "data": {
      "text/html": [
       "<div>\n",
       "<style scoped>\n",
       "    .dataframe tbody tr th:only-of-type {\n",
       "        vertical-align: middle;\n",
       "    }\n",
       "\n",
       "    .dataframe tbody tr th {\n",
       "        vertical-align: top;\n",
       "    }\n",
       "\n",
       "    .dataframe thead th {\n",
       "        text-align: right;\n",
       "    }\n",
       "</style>\n",
       "<table border=\"1\" class=\"dataframe\">\n",
       "  <thead>\n",
       "    <tr style=\"text-align: right;\">\n",
       "      <th></th>\n",
       "      <th>debt</th>\n",
       "    </tr>\n",
       "    <tr>\n",
       "      <th>family_status</th>\n",
       "      <th></th>\n",
       "    </tr>\n",
       "  </thead>\n",
       "  <tbody>\n",
       "    <tr>\n",
       "      <th>civil partnership</th>\n",
       "      <td>0.093202</td>\n",
       "    </tr>\n",
       "    <tr>\n",
       "      <th>divorced</th>\n",
       "      <td>0.071130</td>\n",
       "    </tr>\n",
       "    <tr>\n",
       "      <th>married</th>\n",
       "      <td>0.075421</td>\n",
       "    </tr>\n",
       "    <tr>\n",
       "      <th>unmarried</th>\n",
       "      <td>0.097509</td>\n",
       "    </tr>\n",
       "    <tr>\n",
       "      <th>widow / widower</th>\n",
       "      <td>0.065693</td>\n",
       "    </tr>\n",
       "  </tbody>\n",
       "</table>\n",
       "</div>"
      ],
      "text/plain": [
       "                       debt\n",
       "family_status              \n",
       "civil partnership  0.093202\n",
       "divorced           0.071130\n",
       "married            0.075421\n",
       "unmarried          0.097509\n",
       "widow / widower    0.065693"
      ]
     },
     "execution_count": 52,
     "metadata": {},
     "output_type": "execute_result"
    }
   ],
   "source": [
    "df.pivot_table(\n",
    "    index = 'family_status',\n",
    "    values = 'debt',\n",
    "    aggfunc = 'mean'\n",
    ")"
   ]
  },
  {
   "cell_type": "markdown",
   "metadata": {},
   "source": [
    "*Conclusion: Unmarried borrowers and borrowers in civil partnerships are the least likely to pay back loans on time. Widowed borrowers are the most likely to pay back loans on time.*\n",
    "\n",
    "*Married and divored borrowers are more likely than unmarried borrowers but less likely than widowed borrowers to pay back loans on time.*"
   ]
  },
  {
   "cell_type": "markdown",
   "metadata": {},
   "source": [
    "### Is there a relation between income level and repaying a loan on time?"
   ]
  },
  {
   "cell_type": "code",
   "execution_count": 53,
   "metadata": {
    "scrolled": true
   },
   "outputs": [
    {
     "data": {
      "text/html": [
       "<div>\n",
       "<style scoped>\n",
       "    .dataframe tbody tr th:only-of-type {\n",
       "        vertical-align: middle;\n",
       "    }\n",
       "\n",
       "    .dataframe tbody tr th {\n",
       "        vertical-align: top;\n",
       "    }\n",
       "\n",
       "    .dataframe thead th {\n",
       "        text-align: right;\n",
       "    }\n",
       "</style>\n",
       "<table border=\"1\" class=\"dataframe\">\n",
       "  <thead>\n",
       "    <tr style=\"text-align: right;\">\n",
       "      <th></th>\n",
       "      <th>debt</th>\n",
       "    </tr>\n",
       "    <tr>\n",
       "      <th>income_group</th>\n",
       "      <th></th>\n",
       "    </tr>\n",
       "  </thead>\n",
       "  <tbody>\n",
       "    <tr>\n",
       "      <th>Below 20,000</th>\n",
       "      <td>0.082508</td>\n",
       "    </tr>\n",
       "    <tr>\n",
       "      <th>From 20,000 to 30,000</th>\n",
       "      <td>0.085177</td>\n",
       "    </tr>\n",
       "    <tr>\n",
       "      <th>From 30,000 to 40,000</th>\n",
       "      <td>0.077889</td>\n",
       "    </tr>\n",
       "    <tr>\n",
       "      <th>From 40,000 to 50,000</th>\n",
       "      <td>0.068365</td>\n",
       "    </tr>\n",
       "    <tr>\n",
       "      <th>Over 50,000</th>\n",
       "      <td>0.069697</td>\n",
       "    </tr>\n",
       "  </tbody>\n",
       "</table>\n",
       "</div>"
      ],
      "text/plain": [
       "                           debt\n",
       "income_group                   \n",
       "Below 20,000           0.082508\n",
       "From 20,000 to 30,000  0.085177\n",
       "From 30,000 to 40,000  0.077889\n",
       "From 40,000 to 50,000  0.068365\n",
       "Over 50,000            0.069697"
      ]
     },
     "execution_count": 53,
     "metadata": {},
     "output_type": "execute_result"
    }
   ],
   "source": [
    "df.pivot_table(\n",
    "    index = 'income_group',\n",
    "    values = 'debt',\n",
    "    aggfunc = 'mean'\n",
    ")"
   ]
  },
  {
   "cell_type": "markdown",
   "metadata": {},
   "source": [
    "For borrowers who make an income of less than 20,000 per year, the rate of default is 8.25%.\n",
    "The rate of default steadily declines with increased income.\n",
    "For borrowers who make over 50,000 per year, the rate of default is only 6.97%.\n",
    "\n",
    "*Conclusion: People with higher incomes may be more likely to pay back loans on time.*"
   ]
  },
  {
   "cell_type": "markdown",
   "metadata": {},
   "source": [
    "### How do different loan purposes affect on-time repayment of the loan?"
   ]
  },
  {
   "cell_type": "markdown",
   "metadata": {},
   "source": [
    "For most borrowers, the probability of defaulting on a loan is somewhere between 7% and 8%. But for borrowers who wish to buy a car or pay for higher education, the probability of defaulting rises above 9%. "
   ]
  },
  {
   "cell_type": "code",
   "execution_count": 54,
   "metadata": {
    "scrolled": true
   },
   "outputs": [
    {
     "data": {
      "text/html": [
       "<div>\n",
       "<style scoped>\n",
       "    .dataframe tbody tr th:only-of-type {\n",
       "        vertical-align: middle;\n",
       "    }\n",
       "\n",
       "    .dataframe tbody tr th {\n",
       "        vertical-align: top;\n",
       "    }\n",
       "\n",
       "    .dataframe thead th {\n",
       "        text-align: right;\n",
       "    }\n",
       "</style>\n",
       "<table border=\"1\" class=\"dataframe\">\n",
       "  <thead>\n",
       "    <tr style=\"text-align: right;\">\n",
       "      <th></th>\n",
       "      <th>debt</th>\n",
       "    </tr>\n",
       "    <tr>\n",
       "      <th>reason_group</th>\n",
       "      <th></th>\n",
       "    </tr>\n",
       "  </thead>\n",
       "  <tbody>\n",
       "    <tr>\n",
       "      <th>Car</th>\n",
       "      <td>0.093547</td>\n",
       "    </tr>\n",
       "    <tr>\n",
       "      <th>Commercial Real Estate</th>\n",
       "      <td>0.076884</td>\n",
       "    </tr>\n",
       "    <tr>\n",
       "      <th>Construction and Renovation</th>\n",
       "      <td>0.072003</td>\n",
       "    </tr>\n",
       "    <tr>\n",
       "      <th>Education</th>\n",
       "      <td>0.092177</td>\n",
       "    </tr>\n",
       "    <tr>\n",
       "      <th>Other Housing</th>\n",
       "      <td>0.072419</td>\n",
       "    </tr>\n",
       "    <tr>\n",
       "      <th>Real Estate</th>\n",
       "      <td>0.070667</td>\n",
       "    </tr>\n",
       "    <tr>\n",
       "      <th>Wedding</th>\n",
       "      <td>0.079657</td>\n",
       "    </tr>\n",
       "  </tbody>\n",
       "</table>\n",
       "</div>"
      ],
      "text/plain": [
       "                                 debt\n",
       "reason_group                         \n",
       "Car                          0.093547\n",
       "Commercial Real Estate       0.076884\n",
       "Construction and Renovation  0.072003\n",
       "Education                    0.092177\n",
       "Other Housing                0.072419\n",
       "Real Estate                  0.070667\n",
       "Wedding                      0.079657"
      ]
     },
     "execution_count": 54,
     "metadata": {},
     "output_type": "execute_result"
    }
   ],
   "source": [
    "df.pivot_table(\n",
    "    index = 'reason_group',\n",
    "    values = 'debt',\n",
    "    aggfunc = 'mean'\n",
    ")"
   ]
  },
  {
   "cell_type": "markdown",
   "metadata": {},
   "source": [
    "*Conclusion: Borrowers who loan money to buy a car or pay for education _may_ be less likely than other borrowers to repay their loans on time.*"
   ]
  },
  {
   "cell_type": "markdown",
   "metadata": {},
   "source": [
    "## General Conclusion"
   ]
  },
  {
   "cell_type": "markdown",
   "metadata": {},
   "source": [
    "From the data, it appears that borrowers without children are more likely to pay back loans on time than people with children.\n",
    "\n",
    "Unmarried borrowers and borrowers in civil partnerships are the least likely to pay back loans on time. Widowed borrowers are the most likely to pay back loans on time.\n",
    "\n",
    "Married and divored borrowers are more likely than unmarried borrowers but less likely than widowed borrowers to pay back loans on time.\n",
    "\n",
    "People with higher incomes may be more likely to pay back loans on time.\n",
    "\n",
    "Borrowers who loan money to buy a car or pay for education may be less likely than other borrowers to repay their loans on time."
   ]
  }
 ],
 "metadata": {
  "ExecuteTimeLog": [
   {
    "duration": 317,
    "start_time": "2021-09-06T19:44:24.039Z"
   },
   {
    "duration": 2809,
    "start_time": "2021-09-06T19:44:47.176Z"
   },
   {
    "duration": 286,
    "start_time": "2021-09-06T19:45:20.773Z"
   },
   {
    "duration": 16,
    "start_time": "2021-09-06T19:45:25.531Z"
   },
   {
    "duration": 14,
    "start_time": "2021-09-06T19:48:21.008Z"
   },
   {
    "duration": 675,
    "start_time": "2021-09-07T21:23:51.214Z"
   },
   {
    "duration": 11,
    "start_time": "2021-09-07T21:23:51.891Z"
   },
   {
    "duration": 10,
    "start_time": "2021-09-07T21:23:51.904Z"
   },
   {
    "duration": 56,
    "start_time": "2021-09-07T21:25:09.489Z"
   },
   {
    "duration": 5,
    "start_time": "2021-09-07T21:25:28.265Z"
   },
   {
    "duration": 11,
    "start_time": "2021-09-07T21:26:32.147Z"
   },
   {
    "duration": 5,
    "start_time": "2021-09-07T21:31:03.643Z"
   },
   {
    "duration": 20,
    "start_time": "2021-09-07T21:39:17.827Z"
   },
   {
    "duration": 5,
    "start_time": "2021-09-07T21:40:43.634Z"
   },
   {
    "duration": 18,
    "start_time": "2021-09-07T21:41:10.041Z"
   },
   {
    "duration": 6,
    "start_time": "2021-09-07T21:41:26.017Z"
   },
   {
    "duration": 6,
    "start_time": "2021-09-07T21:41:50.378Z"
   },
   {
    "duration": 7,
    "start_time": "2021-09-07T21:47:23.558Z"
   },
   {
    "duration": 6,
    "start_time": "2021-09-07T21:49:46.559Z"
   },
   {
    "duration": 7,
    "start_time": "2021-09-07T21:50:05.834Z"
   },
   {
    "duration": 7,
    "start_time": "2021-09-07T22:07:31.582Z"
   },
   {
    "duration": 6,
    "start_time": "2021-09-07T22:07:43.756Z"
   },
   {
    "duration": 7,
    "start_time": "2021-09-07T22:08:05.430Z"
   },
   {
    "duration": 7,
    "start_time": "2021-09-07T22:08:23.950Z"
   },
   {
    "duration": 19,
    "start_time": "2021-09-07T22:33:05.528Z"
   },
   {
    "duration": 23,
    "start_time": "2021-09-07T22:33:30.887Z"
   },
   {
    "duration": 10,
    "start_time": "2021-09-07T22:34:06.379Z"
   },
   {
    "duration": 13,
    "start_time": "2021-09-07T22:34:26.381Z"
   },
   {
    "duration": 8,
    "start_time": "2021-09-07T22:35:42.712Z"
   },
   {
    "duration": 8,
    "start_time": "2021-09-07T22:35:58.930Z"
   },
   {
    "duration": 7,
    "start_time": "2021-09-07T22:36:40.560Z"
   },
   {
    "duration": 58,
    "start_time": "2021-09-07T22:36:42.111Z"
   },
   {
    "duration": 7,
    "start_time": "2021-09-07T22:36:49.103Z"
   },
   {
    "duration": 7,
    "start_time": "2021-09-07T22:39:06.770Z"
   },
   {
    "duration": 4,
    "start_time": "2021-09-07T22:45:58.841Z"
   },
   {
    "duration": 7,
    "start_time": "2021-09-07T22:46:59.842Z"
   },
   {
    "duration": 5,
    "start_time": "2021-09-07T22:47:12.528Z"
   },
   {
    "duration": 5,
    "start_time": "2021-09-07T22:47:42.459Z"
   },
   {
    "duration": 11,
    "start_time": "2021-09-07T22:50:44.844Z"
   },
   {
    "duration": 6,
    "start_time": "2021-09-07T22:57:21.213Z"
   },
   {
    "duration": 12,
    "start_time": "2021-09-07T23:01:49.259Z"
   },
   {
    "duration": 11,
    "start_time": "2021-09-07T23:50:21.771Z"
   },
   {
    "duration": 259,
    "start_time": "2021-09-07T23:50:22.798Z"
   },
   {
    "duration": 66,
    "start_time": "2021-09-07T23:51:01.250Z"
   },
   {
    "duration": 201,
    "start_time": "2021-09-08T00:32:54.861Z"
   },
   {
    "duration": 193,
    "start_time": "2021-09-08T00:33:22.046Z"
   },
   {
    "duration": 179,
    "start_time": "2021-09-08T00:33:36.027Z"
   },
   {
    "duration": 21,
    "start_time": "2021-09-08T00:34:16.061Z"
   },
   {
    "duration": 22,
    "start_time": "2021-09-08T00:34:48.734Z"
   },
   {
    "duration": 3327,
    "start_time": "2021-09-08T00:35:03.166Z"
   },
   {
    "duration": 23,
    "start_time": "2021-09-08T00:35:15.910Z"
   },
   {
    "duration": 182,
    "start_time": "2021-09-08T00:35:40.745Z"
   },
   {
    "duration": 729,
    "start_time": "2021-09-08T00:35:46.892Z"
   },
   {
    "duration": 76,
    "start_time": "2021-09-08T00:35:53.378Z"
   },
   {
    "duration": 24,
    "start_time": "2021-09-08T00:36:06.959Z"
   },
   {
    "duration": 10,
    "start_time": "2021-09-08T00:37:24.787Z"
   },
   {
    "duration": 10,
    "start_time": "2021-09-08T00:37:28.212Z"
   },
   {
    "duration": 22,
    "start_time": "2021-09-08T00:38:52.852Z"
   },
   {
    "duration": 73,
    "start_time": "2021-09-08T00:40:36.690Z"
   },
   {
    "duration": 21,
    "start_time": "2021-09-08T00:42:32.607Z"
   },
   {
    "duration": 20,
    "start_time": "2021-09-08T00:42:43.442Z"
   },
   {
    "duration": 81,
    "start_time": "2021-09-08T00:48:36.617Z"
   },
   {
    "duration": 13,
    "start_time": "2021-09-08T00:49:49.583Z"
   },
   {
    "duration": 14,
    "start_time": "2021-09-08T00:53:25.343Z"
   },
   {
    "duration": 14,
    "start_time": "2021-09-08T00:53:31.157Z"
   },
   {
    "duration": 14,
    "start_time": "2021-09-08T00:54:01.579Z"
   },
   {
    "duration": 28,
    "start_time": "2021-09-08T00:54:40.942Z"
   },
   {
    "duration": 28,
    "start_time": "2021-09-08T00:57:33.320Z"
   },
   {
    "duration": 15,
    "start_time": "2021-09-08T00:57:39.617Z"
   },
   {
    "duration": 15,
    "start_time": "2021-09-08T00:57:54.588Z"
   },
   {
    "duration": 6,
    "start_time": "2021-09-08T02:23:09.783Z"
   },
   {
    "duration": 8,
    "start_time": "2021-09-08T02:24:42.729Z"
   },
   {
    "duration": 8,
    "start_time": "2021-09-08T02:24:46.360Z"
   },
   {
    "duration": 101,
    "start_time": "2021-09-08T02:41:00.975Z"
   },
   {
    "duration": 240,
    "start_time": "2021-09-08T02:41:24.805Z"
   },
   {
    "duration": 184,
    "start_time": "2021-09-08T02:41:32.328Z"
   },
   {
    "duration": 197,
    "start_time": "2021-09-08T02:41:45.304Z"
   },
   {
    "duration": 190,
    "start_time": "2021-09-08T02:41:59.230Z"
   },
   {
    "duration": 9,
    "start_time": "2021-09-08T02:42:39.616Z"
   },
   {
    "duration": 18,
    "start_time": "2021-09-08T02:43:33.887Z"
   },
   {
    "duration": 7,
    "start_time": "2021-09-08T02:45:08.880Z"
   },
   {
    "duration": 18,
    "start_time": "2021-09-08T02:47:24.702Z"
   },
   {
    "duration": 217,
    "start_time": "2021-09-08T02:49:52.085Z"
   },
   {
    "duration": 8,
    "start_time": "2021-09-08T02:49:57.379Z"
   },
   {
    "duration": 6,
    "start_time": "2021-09-08T02:50:44.106Z"
   },
   {
    "duration": 192,
    "start_time": "2021-09-08T03:06:27.667Z"
   },
   {
    "duration": 3,
    "start_time": "2021-09-08T03:06:33.372Z"
   },
   {
    "duration": 8,
    "start_time": "2021-09-08T03:06:35.349Z"
   },
   {
    "duration": 8,
    "start_time": "2021-09-08T03:07:00.190Z"
   },
   {
    "duration": 9,
    "start_time": "2021-09-08T03:07:29.221Z"
   },
   {
    "duration": 8,
    "start_time": "2021-09-08T03:07:44.171Z"
   },
   {
    "duration": 4,
    "start_time": "2021-09-08T03:08:12.507Z"
   },
   {
    "duration": 8,
    "start_time": "2021-09-08T03:08:14.725Z"
   },
   {
    "duration": 13,
    "start_time": "2021-09-08T03:09:24.738Z"
   },
   {
    "duration": 10,
    "start_time": "2021-09-08T03:09:47.775Z"
   },
   {
    "duration": 11,
    "start_time": "2021-09-08T03:09:49.776Z"
   },
   {
    "duration": 9,
    "start_time": "2021-09-08T03:10:34.522Z"
   },
   {
    "duration": 8,
    "start_time": "2021-09-08T03:31:23.816Z"
   },
   {
    "duration": 4,
    "start_time": "2021-09-08T03:40:22.329Z"
   },
   {
    "duration": 4,
    "start_time": "2021-09-08T03:40:27.862Z"
   },
   {
    "duration": 10,
    "start_time": "2021-09-08T03:42:37.081Z"
   },
   {
    "duration": 64,
    "start_time": "2021-09-08T03:43:06.450Z"
   },
   {
    "duration": 13,
    "start_time": "2021-09-08T03:43:12.826Z"
   },
   {
    "duration": 12,
    "start_time": "2021-09-08T03:43:31.318Z"
   },
   {
    "duration": 7,
    "start_time": "2021-09-08T03:48:25.921Z"
   },
   {
    "duration": 1726,
    "start_time": "2021-09-08T14:34:27.490Z"
   },
   {
    "duration": 17,
    "start_time": "2021-09-08T14:34:31.361Z"
   },
   {
    "duration": 12,
    "start_time": "2021-09-08T14:34:34.177Z"
   },
   {
    "duration": 20,
    "start_time": "2021-09-08T14:34:35.274Z"
   },
   {
    "duration": 6,
    "start_time": "2021-09-08T14:34:40.255Z"
   },
   {
    "duration": 7,
    "start_time": "2021-09-08T14:34:42.953Z"
   },
   {
    "duration": 10,
    "start_time": "2021-09-08T14:34:44.427Z"
   },
   {
    "duration": 10,
    "start_time": "2021-09-08T14:34:51.620Z"
   },
   {
    "duration": 1184,
    "start_time": "2021-09-08T14:35:09.856Z"
   },
   {
    "duration": 11,
    "start_time": "2021-09-08T14:35:18.446Z"
   },
   {
    "duration": 11,
    "start_time": "2021-09-08T14:36:07.975Z"
   },
   {
    "duration": 11,
    "start_time": "2021-09-08T14:36:28.825Z"
   },
   {
    "duration": 11,
    "start_time": "2021-09-08T14:39:25.128Z"
   },
   {
    "duration": 404,
    "start_time": "2021-09-08T14:39:40.817Z"
   },
   {
    "duration": 10,
    "start_time": "2021-09-08T14:39:48.192Z"
   },
   {
    "duration": 24,
    "start_time": "2021-09-08T14:49:46.774Z"
   },
   {
    "duration": 12,
    "start_time": "2021-09-08T14:52:12.127Z"
   },
   {
    "duration": 9,
    "start_time": "2021-09-08T14:52:22.647Z"
   },
   {
    "duration": 12,
    "start_time": "2021-09-08T14:54:08.633Z"
   },
   {
    "duration": 8,
    "start_time": "2021-09-08T15:02:52.168Z"
   },
   {
    "duration": 8,
    "start_time": "2021-09-08T15:03:16.456Z"
   },
   {
    "duration": 4,
    "start_time": "2021-09-08T15:12:28.615Z"
   },
   {
    "duration": 142,
    "start_time": "2021-09-08T15:12:58.896Z"
   },
   {
    "duration": 11,
    "start_time": "2021-09-08T15:13:41.780Z"
   },
   {
    "duration": 20,
    "start_time": "2021-09-08T15:14:27.556Z"
   },
   {
    "duration": 10,
    "start_time": "2021-09-08T15:14:50.916Z"
   },
   {
    "duration": 1165,
    "start_time": "2021-09-08T15:15:47.822Z"
   },
   {
    "duration": 27,
    "start_time": "2021-09-08T15:15:48.990Z"
   },
   {
    "duration": 14,
    "start_time": "2021-09-08T15:15:49.021Z"
   },
   {
    "duration": 15,
    "start_time": "2021-09-08T15:15:49.038Z"
   },
   {
    "duration": 6,
    "start_time": "2021-09-08T15:15:49.055Z"
   },
   {
    "duration": 5,
    "start_time": "2021-09-08T15:15:49.064Z"
   },
   {
    "duration": 53,
    "start_time": "2021-09-08T15:15:49.072Z"
   },
   {
    "duration": 11,
    "start_time": "2021-09-08T15:15:49.128Z"
   },
   {
    "duration": 9,
    "start_time": "2021-09-08T15:15:49.141Z"
   },
   {
    "duration": 10,
    "start_time": "2021-09-08T15:15:49.153Z"
   },
   {
    "duration": 6,
    "start_time": "2021-09-08T15:15:49.165Z"
   },
   {
    "duration": 15,
    "start_time": "2021-09-08T15:15:49.216Z"
   },
   {
    "duration": 15,
    "start_time": "2021-09-08T15:15:49.234Z"
   },
   {
    "duration": 13,
    "start_time": "2021-09-08T15:15:49.252Z"
   },
   {
    "duration": 49,
    "start_time": "2021-09-08T15:15:49.267Z"
   },
   {
    "duration": 18,
    "start_time": "2021-09-08T15:15:49.319Z"
   },
   {
    "duration": 20,
    "start_time": "2021-09-08T15:15:49.340Z"
   },
   {
    "duration": 82,
    "start_time": "2021-09-08T15:15:49.363Z"
   },
   {
    "duration": 24,
    "start_time": "2021-09-08T15:15:49.448Z"
   },
   {
    "duration": 51,
    "start_time": "2021-09-08T15:15:49.474Z"
   },
   {
    "duration": 12,
    "start_time": "2021-09-08T15:15:49.527Z"
   },
   {
    "duration": 31,
    "start_time": "2021-09-08T15:15:49.541Z"
   },
   {
    "duration": 9,
    "start_time": "2021-09-08T15:15:49.577Z"
   },
   {
    "duration": 10,
    "start_time": "2021-09-08T15:15:49.618Z"
   },
   {
    "duration": 5,
    "start_time": "2021-09-08T15:15:49.631Z"
   },
   {
    "duration": 16,
    "start_time": "2021-09-08T15:15:49.639Z"
   },
   {
    "duration": 18,
    "start_time": "2021-09-08T15:15:49.657Z"
   },
   {
    "duration": 11,
    "start_time": "2021-09-08T15:15:49.717Z"
   },
   {
    "duration": 14,
    "start_time": "2021-09-08T15:15:49.731Z"
   },
   {
    "duration": 6,
    "start_time": "2021-09-08T15:15:49.748Z"
   },
   {
    "duration": 59,
    "start_time": "2021-09-08T15:15:49.757Z"
   },
   {
    "duration": 20,
    "start_time": "2021-09-08T15:15:49.819Z"
   },
   {
    "duration": 13,
    "start_time": "2021-09-08T15:15:49.842Z"
   },
   {
    "duration": 10,
    "start_time": "2021-09-08T15:15:49.858Z"
   },
   {
    "duration": 57,
    "start_time": "2021-09-08T15:15:49.871Z"
   },
   {
    "duration": 9,
    "start_time": "2021-09-08T15:15:49.930Z"
   },
   {
    "duration": 4,
    "start_time": "2021-09-08T15:15:49.942Z"
   },
   {
    "duration": 14,
    "start_time": "2021-09-08T15:15:49.948Z"
   },
   {
    "duration": 20,
    "start_time": "2021-09-08T15:15:49.964Z"
   },
   {
    "duration": 9,
    "start_time": "2021-09-08T15:15:50.017Z"
   },
   {
    "duration": 19,
    "start_time": "2021-09-08T15:15:50.029Z"
   },
   {
    "duration": 12,
    "start_time": "2021-09-08T15:15:50.051Z"
   },
   {
    "duration": 755,
    "start_time": "2021-09-08T15:24:15.705Z"
   },
   {
    "duration": 4,
    "start_time": "2021-09-08T15:32:48.709Z"
   },
   {
    "duration": 5,
    "start_time": "2021-09-08T15:32:49.595Z"
   },
   {
    "duration": 1876,
    "start_time": "2021-09-08T15:32:50.403Z"
   },
   {
    "duration": 3,
    "start_time": "2021-09-08T15:33:02.084Z"
   },
   {
    "duration": 4675,
    "start_time": "2021-09-08T15:33:02.816Z"
   },
   {
    "duration": 9,
    "start_time": "2021-09-08T15:33:34.188Z"
   },
   {
    "duration": 24,
    "start_time": "2021-09-08T15:33:44.801Z"
   },
   {
    "duration": 4,
    "start_time": "2021-09-08T15:34:36.132Z"
   },
   {
    "duration": 4,
    "start_time": "2021-09-08T15:34:36.961Z"
   },
   {
    "duration": 406,
    "start_time": "2021-09-08T15:34:37.865Z"
   },
   {
    "duration": 9,
    "start_time": "2021-09-08T15:34:39.526Z"
   },
   {
    "duration": 948,
    "start_time": "2021-09-09T15:22:03.826Z"
   },
   {
    "duration": 16,
    "start_time": "2021-09-09T15:22:04.777Z"
   },
   {
    "duration": 17,
    "start_time": "2021-09-09T15:22:04.796Z"
   },
   {
    "duration": 15,
    "start_time": "2021-09-09T15:22:04.816Z"
   },
   {
    "duration": 10,
    "start_time": "2021-09-09T15:22:04.833Z"
   },
   {
    "duration": 40,
    "start_time": "2021-09-09T15:22:04.845Z"
   },
   {
    "duration": 10,
    "start_time": "2021-09-09T15:22:04.887Z"
   },
   {
    "duration": 18,
    "start_time": "2021-09-09T15:22:04.903Z"
   },
   {
    "duration": 13,
    "start_time": "2021-09-09T15:22:04.925Z"
   },
   {
    "duration": 44,
    "start_time": "2021-09-09T15:22:04.940Z"
   },
   {
    "duration": 7,
    "start_time": "2021-09-09T15:22:04.986Z"
   },
   {
    "duration": 14,
    "start_time": "2021-09-09T15:22:04.995Z"
   },
   {
    "duration": 15,
    "start_time": "2021-09-09T15:22:05.012Z"
   },
   {
    "duration": 54,
    "start_time": "2021-09-09T15:22:05.029Z"
   },
   {
    "duration": 15,
    "start_time": "2021-09-09T15:22:05.086Z"
   },
   {
    "duration": 22,
    "start_time": "2021-09-09T15:22:05.104Z"
   },
   {
    "duration": 19,
    "start_time": "2021-09-09T15:22:05.129Z"
   },
   {
    "duration": 46,
    "start_time": "2021-09-09T15:22:05.183Z"
   },
   {
    "duration": 18,
    "start_time": "2021-09-09T15:22:05.231Z"
   },
   {
    "duration": 42,
    "start_time": "2021-09-09T15:22:05.251Z"
   },
   {
    "duration": 9,
    "start_time": "2021-09-09T15:22:05.296Z"
   },
   {
    "duration": 31,
    "start_time": "2021-09-09T15:22:05.307Z"
   },
   {
    "duration": 9,
    "start_time": "2021-09-09T15:22:05.343Z"
   },
   {
    "duration": 36,
    "start_time": "2021-09-09T15:22:05.354Z"
   },
   {
    "duration": 5,
    "start_time": "2021-09-09T15:22:05.392Z"
   },
   {
    "duration": 16,
    "start_time": "2021-09-09T15:22:05.400Z"
   },
   {
    "duration": 21,
    "start_time": "2021-09-09T15:22:05.418Z"
   },
   {
    "duration": 44,
    "start_time": "2021-09-09T15:22:05.441Z"
   },
   {
    "duration": 11,
    "start_time": "2021-09-09T15:22:05.487Z"
   },
   {
    "duration": 6,
    "start_time": "2021-09-09T15:22:05.501Z"
   },
   {
    "duration": 19,
    "start_time": "2021-09-09T15:22:05.510Z"
   },
   {
    "duration": 17,
    "start_time": "2021-09-09T15:22:05.532Z"
   },
   {
    "duration": 10,
    "start_time": "2021-09-09T15:22:05.584Z"
   },
   {
    "duration": 11,
    "start_time": "2021-09-09T15:22:05.597Z"
   },
   {
    "duration": 15,
    "start_time": "2021-09-09T15:22:05.610Z"
   },
   {
    "duration": 8,
    "start_time": "2021-09-09T15:22:05.628Z"
   },
   {
    "duration": 43,
    "start_time": "2021-09-09T15:22:05.639Z"
   },
   {
    "duration": 18,
    "start_time": "2021-09-09T15:22:05.685Z"
   },
   {
    "duration": 19,
    "start_time": "2021-09-09T15:22:05.706Z"
   },
   {
    "duration": 18,
    "start_time": "2021-09-09T15:22:05.728Z"
   },
   {
    "duration": 702,
    "start_time": "2021-09-09T15:22:05.748Z"
   },
   {
    "duration": 5,
    "start_time": "2021-09-09T15:22:06.452Z"
   },
   {
    "duration": 2283,
    "start_time": "2021-09-09T15:22:06.460Z"
   },
   {
    "duration": 9,
    "start_time": "2021-09-09T15:22:08.746Z"
   },
   {
    "duration": 35,
    "start_time": "2021-09-09T15:22:08.758Z"
   },
   {
    "duration": 15,
    "start_time": "2021-09-09T15:22:08.796Z"
   },
   {
    "duration": 49,
    "start_time": "2021-09-09T15:31:42.349Z"
   },
   {
    "duration": -4363,
    "start_time": "2021-09-09T15:40:57.830Z"
   },
   {
    "duration": 2154,
    "start_time": "2021-09-09T15:41:51.275Z"
   },
   {
    "duration": 86,
    "start_time": "2021-09-09T15:41:54.566Z"
   },
   {
    "duration": 47,
    "start_time": "2021-09-09T15:42:01.828Z"
   },
   {
    "duration": 20,
    "start_time": "2021-09-09T15:42:59.545Z"
   },
   {
    "duration": 20,
    "start_time": "2021-09-09T15:43:25.520Z"
   },
   {
    "duration": 21,
    "start_time": "2021-09-09T15:43:37.903Z"
   },
   {
    "duration": 20,
    "start_time": "2021-09-09T15:43:57.600Z"
   },
   {
    "duration": 319,
    "start_time": "2021-09-09T18:43:52.091Z"
   },
   {
    "duration": 956,
    "start_time": "2021-09-09T18:44:04.375Z"
   },
   {
    "duration": 15,
    "start_time": "2021-09-09T18:44:05.334Z"
   },
   {
    "duration": 33,
    "start_time": "2021-09-09T18:44:05.352Z"
   },
   {
    "duration": 17,
    "start_time": "2021-09-09T18:44:05.387Z"
   },
   {
    "duration": 6,
    "start_time": "2021-09-09T18:44:05.407Z"
   },
   {
    "duration": 9,
    "start_time": "2021-09-09T18:44:05.415Z"
   },
   {
    "duration": 10,
    "start_time": "2021-09-09T18:44:05.426Z"
   },
   {
    "duration": 47,
    "start_time": "2021-09-09T18:44:05.439Z"
   },
   {
    "duration": 8,
    "start_time": "2021-09-09T18:44:05.489Z"
   },
   {
    "duration": 17,
    "start_time": "2021-09-09T18:44:05.499Z"
   },
   {
    "duration": 7,
    "start_time": "2021-09-09T18:44:05.519Z"
   },
   {
    "duration": 15,
    "start_time": "2021-09-09T18:44:05.529Z"
   },
   {
    "duration": 49,
    "start_time": "2021-09-09T18:44:05.546Z"
   },
   {
    "duration": 14,
    "start_time": "2021-09-09T18:44:05.597Z"
   },
   {
    "duration": 16,
    "start_time": "2021-09-09T18:44:05.614Z"
   },
   {
    "duration": 61,
    "start_time": "2021-09-09T18:44:05.632Z"
   },
   {
    "duration": 21,
    "start_time": "2021-09-09T18:44:05.696Z"
   },
   {
    "duration": 68,
    "start_time": "2021-09-09T18:44:05.720Z"
   },
   {
    "duration": 20,
    "start_time": "2021-09-09T18:44:05.791Z"
   },
   {
    "duration": 20,
    "start_time": "2021-09-09T18:44:05.813Z"
   },
   {
    "duration": 10,
    "start_time": "2021-09-09T18:44:05.835Z"
   },
   {
    "duration": 63,
    "start_time": "2021-09-09T18:44:05.847Z"
   },
   {
    "duration": 10,
    "start_time": "2021-09-09T18:44:05.915Z"
   },
   {
    "duration": 12,
    "start_time": "2021-09-09T18:44:05.928Z"
   },
   {
    "duration": 6,
    "start_time": "2021-09-09T18:44:05.943Z"
   },
   {
    "duration": 47,
    "start_time": "2021-09-09T18:44:05.950Z"
   },
   {
    "duration": 19,
    "start_time": "2021-09-09T18:44:05.999Z"
   },
   {
    "duration": 11,
    "start_time": "2021-09-09T18:44:06.020Z"
   },
   {
    "duration": 16,
    "start_time": "2021-09-09T18:44:06.033Z"
   },
   {
    "duration": 5,
    "start_time": "2021-09-09T18:44:06.083Z"
   },
   {
    "duration": 26,
    "start_time": "2021-09-09T18:44:06.090Z"
   },
   {
    "duration": 17,
    "start_time": "2021-09-09T18:44:06.118Z"
   },
   {
    "duration": 13,
    "start_time": "2021-09-09T18:44:06.137Z"
   },
   {
    "duration": 32,
    "start_time": "2021-09-09T18:44:06.152Z"
   },
   {
    "duration": 11,
    "start_time": "2021-09-09T18:44:06.186Z"
   },
   {
    "duration": 12,
    "start_time": "2021-09-09T18:44:06.199Z"
   },
   {
    "duration": 16,
    "start_time": "2021-09-09T18:44:06.213Z"
   },
   {
    "duration": 27,
    "start_time": "2021-09-09T18:44:06.231Z"
   },
   {
    "duration": 30,
    "start_time": "2021-09-09T18:44:06.260Z"
   },
   {
    "duration": 19,
    "start_time": "2021-09-09T18:44:06.292Z"
   },
   {
    "duration": 745,
    "start_time": "2021-09-09T18:44:06.313Z"
   },
   {
    "duration": 4,
    "start_time": "2021-09-09T18:44:07.060Z"
   },
   {
    "duration": 2275,
    "start_time": "2021-09-09T18:44:07.067Z"
   },
   {
    "duration": 8,
    "start_time": "2021-09-09T18:44:09.344Z"
   },
   {
    "duration": 66,
    "start_time": "2021-09-09T18:44:09.355Z"
   },
   {
    "duration": 12,
    "start_time": "2021-09-09T18:44:09.423Z"
   },
   {
    "duration": 48,
    "start_time": "2021-09-09T18:44:09.437Z"
   },
   {
    "duration": 26,
    "start_time": "2021-09-09T18:44:09.488Z"
   },
   {
    "duration": 37,
    "start_time": "2021-09-09T18:44:09.516Z"
   },
   {
    "duration": 25,
    "start_time": "2021-09-09T18:44:09.555Z"
   },
   {
    "duration": 24,
    "start_time": "2021-09-09T18:44:09.583Z"
   },
   {
    "duration": 22,
    "start_time": "2021-09-09T18:44:50.223Z"
   },
   {
    "duration": 21,
    "start_time": "2021-09-09T18:45:06.005Z"
   },
   {
    "duration": 20,
    "start_time": "2021-09-09T18:45:14.401Z"
   },
   {
    "duration": 21,
    "start_time": "2021-09-09T18:45:22.335Z"
   },
   {
    "duration": 20,
    "start_time": "2021-09-09T18:46:04.426Z"
   },
   {
    "duration": 21,
    "start_time": "2021-09-09T18:47:20.739Z"
   },
   {
    "duration": 21,
    "start_time": "2021-09-09T18:47:34.773Z"
   },
   {
    "duration": 21,
    "start_time": "2021-09-09T18:47:51.063Z"
   },
   {
    "duration": 35,
    "start_time": "2021-09-09T18:48:00.685Z"
   },
   {
    "duration": 21,
    "start_time": "2021-09-09T18:48:11.971Z"
   },
   {
    "duration": 23,
    "start_time": "2021-09-09T18:48:22.345Z"
   },
   {
    "duration": 21,
    "start_time": "2021-09-09T18:49:07.182Z"
   },
   {
    "duration": 21,
    "start_time": "2021-09-09T18:49:14.807Z"
   },
   {
    "duration": 21,
    "start_time": "2021-09-09T18:49:21.950Z"
   },
   {
    "duration": 20,
    "start_time": "2021-09-09T18:50:24.119Z"
   },
   {
    "duration": 21,
    "start_time": "2021-09-09T18:50:41.308Z"
   },
   {
    "duration": 20,
    "start_time": "2021-09-09T18:50:50.463Z"
   },
   {
    "duration": 20,
    "start_time": "2021-09-09T18:53:29.504Z"
   },
   {
    "duration": 21,
    "start_time": "2021-09-09T18:54:10.794Z"
   },
   {
    "duration": 6,
    "start_time": "2021-09-09T18:55:52.263Z"
   },
   {
    "duration": 69,
    "start_time": "2021-09-09T18:57:15.607Z"
   },
   {
    "duration": 25,
    "start_time": "2021-09-09T18:57:42.318Z"
   },
   {
    "duration": 10,
    "start_time": "2021-09-09T18:58:11.451Z"
   },
   {
    "duration": 45,
    "start_time": "2021-09-09T18:58:56.036Z"
   },
   {
    "duration": 95,
    "start_time": "2021-09-09T19:00:06.618Z"
   },
   {
    "duration": 5,
    "start_time": "2021-09-09T19:00:11.775Z"
   },
   {
    "duration": 23,
    "start_time": "2021-09-09T19:00:13.415Z"
   },
   {
    "duration": 9,
    "start_time": "2021-09-09T19:00:14.772Z"
   },
   {
    "duration": 5,
    "start_time": "2021-09-09T19:04:25.533Z"
   },
   {
    "duration": 22,
    "start_time": "2021-09-09T19:04:26.996Z"
   },
   {
    "duration": 9,
    "start_time": "2021-09-09T19:04:28.922Z"
   },
   {
    "duration": 56,
    "start_time": "2021-09-09T19:04:46.712Z"
   },
   {
    "duration": 73,
    "start_time": "2021-09-09T19:05:52.241Z"
   },
   {
    "duration": 5,
    "start_time": "2021-09-09T19:05:57.573Z"
   },
   {
    "duration": 22,
    "start_time": "2021-09-09T19:05:58.774Z"
   },
   {
    "duration": 10,
    "start_time": "2021-09-09T19:06:01.107Z"
   },
   {
    "duration": 9,
    "start_time": "2021-09-09T19:06:17.950Z"
   },
   {
    "duration": 15,
    "start_time": "2021-09-09T19:06:22.780Z"
   },
   {
    "duration": 363,
    "start_time": "2021-09-09T19:20:09.165Z"
   },
   {
    "duration": 34,
    "start_time": "2021-09-09T19:20:13.478Z"
   },
   {
    "duration": 276,
    "start_time": "2021-09-09T19:20:25.546Z"
   },
   {
    "duration": 20,
    "start_time": "2021-09-09T19:20:46.909Z"
   },
   {
    "duration": 19,
    "start_time": "2021-09-09T19:22:11.908Z"
   },
   {
    "duration": 20,
    "start_time": "2021-09-09T19:22:50.944Z"
   },
   {
    "duration": 20,
    "start_time": "2021-09-09T19:23:39.895Z"
   },
   {
    "duration": 32,
    "start_time": "2021-09-09T19:28:42.966Z"
   },
   {
    "duration": 31,
    "start_time": "2021-09-09T19:29:26.796Z"
   },
   {
    "duration": 721,
    "start_time": "2021-09-09T19:38:00.397Z"
   },
   {
    "duration": 83,
    "start_time": "2021-09-09T21:30:28.241Z"
   },
   {
    "duration": 4,
    "start_time": "2021-09-09T21:30:38.400Z"
   },
   {
    "duration": 13,
    "start_time": "2021-09-09T21:30:40.604Z"
   },
   {
    "duration": 21,
    "start_time": "2021-09-09T21:30:43.485Z"
   },
   {
    "duration": 7,
    "start_time": "2021-09-09T21:32:14.942Z"
   },
   {
    "duration": 17,
    "start_time": "2021-09-09T21:32:16.723Z"
   },
   {
    "duration": 31,
    "start_time": "2021-09-09T21:32:18.034Z"
   },
   {
    "duration": 11,
    "start_time": "2021-09-09T21:32:21.497Z"
   },
   {
    "duration": 19,
    "start_time": "2021-09-09T21:32:42.551Z"
   },
   {
    "duration": 4,
    "start_time": "2021-09-09T21:33:07.077Z"
   },
   {
    "duration": 13,
    "start_time": "2021-09-09T21:33:08.961Z"
   },
   {
    "duration": 22,
    "start_time": "2021-09-09T21:33:09.966Z"
   },
   {
    "duration": 10,
    "start_time": "2021-09-09T21:33:11.448Z"
   },
   {
    "duration": 8,
    "start_time": "2021-09-09T21:35:50.488Z"
   },
   {
    "duration": 9,
    "start_time": "2021-09-09T21:36:03.367Z"
   },
   {
    "duration": 9,
    "start_time": "2021-09-09T21:36:09.329Z"
   },
   {
    "duration": 4,
    "start_time": "2021-09-09T21:36:38.459Z"
   },
   {
    "duration": 14,
    "start_time": "2021-09-09T21:36:39.625Z"
   },
   {
    "duration": 22,
    "start_time": "2021-09-09T21:36:41.973Z"
   },
   {
    "duration": 10,
    "start_time": "2021-09-09T21:36:42.657Z"
   },
   {
    "duration": 11,
    "start_time": "2021-09-09T21:36:48.197Z"
   },
   {
    "duration": 10,
    "start_time": "2021-09-09T21:36:55.063Z"
   },
   {
    "duration": 20,
    "start_time": "2021-09-09T21:37:25.654Z"
   },
   {
    "duration": 22,
    "start_time": "2021-09-09T21:52:30.975Z"
   },
   {
    "duration": 1237,
    "start_time": "2021-09-10T19:15:20.416Z"
   },
   {
    "duration": 11,
    "start_time": "2021-09-10T19:15:21.655Z"
   },
   {
    "duration": 8,
    "start_time": "2021-09-10T19:15:21.668Z"
   },
   {
    "duration": 13,
    "start_time": "2021-09-10T19:15:21.678Z"
   },
   {
    "duration": 5,
    "start_time": "2021-09-10T19:15:21.693Z"
   },
   {
    "duration": 5,
    "start_time": "2021-09-10T19:15:21.700Z"
   },
   {
    "duration": 9,
    "start_time": "2021-09-10T19:15:21.707Z"
   },
   {
    "duration": 8,
    "start_time": "2021-09-10T19:15:21.718Z"
   },
   {
    "duration": 6,
    "start_time": "2021-09-10T19:15:21.729Z"
   },
   {
    "duration": 45,
    "start_time": "2021-09-10T19:15:21.738Z"
   },
   {
    "duration": 6,
    "start_time": "2021-09-10T19:15:21.785Z"
   },
   {
    "duration": 11,
    "start_time": "2021-09-10T19:15:21.792Z"
   },
   {
    "duration": 11,
    "start_time": "2021-09-10T19:15:21.805Z"
   },
   {
    "duration": 10,
    "start_time": "2021-09-10T19:15:21.818Z"
   },
   {
    "duration": 53,
    "start_time": "2021-09-10T19:15:21.829Z"
   },
   {
    "duration": 14,
    "start_time": "2021-09-10T19:15:21.884Z"
   },
   {
    "duration": 13,
    "start_time": "2021-09-10T19:15:21.899Z"
   },
   {
    "duration": 27,
    "start_time": "2021-09-10T19:15:21.914Z"
   },
   {
    "duration": 42,
    "start_time": "2021-09-10T19:15:21.943Z"
   },
   {
    "duration": 14,
    "start_time": "2021-09-10T19:15:21.986Z"
   },
   {
    "duration": 8,
    "start_time": "2021-09-10T19:15:22.001Z"
   },
   {
    "duration": 12,
    "start_time": "2021-09-10T19:15:22.011Z"
   },
   {
    "duration": 11,
    "start_time": "2021-09-10T19:15:22.024Z"
   },
   {
    "duration": 9,
    "start_time": "2021-09-10T19:15:22.036Z"
   },
   {
    "duration": 32,
    "start_time": "2021-09-10T19:15:22.047Z"
   },
   {
    "duration": 14,
    "start_time": "2021-09-10T19:15:22.081Z"
   },
   {
    "duration": 13,
    "start_time": "2021-09-10T19:15:22.099Z"
   },
   {
    "duration": 7,
    "start_time": "2021-09-10T19:15:22.114Z"
   },
   {
    "duration": 11,
    "start_time": "2021-09-10T19:15:22.122Z"
   },
   {
    "duration": 3,
    "start_time": "2021-09-10T19:15:22.135Z"
   },
   {
    "duration": 37,
    "start_time": "2021-09-10T19:15:22.139Z"
   },
   {
    "duration": 11,
    "start_time": "2021-09-10T19:15:22.178Z"
   },
   {
    "duration": 10,
    "start_time": "2021-09-10T19:15:22.190Z"
   },
   {
    "duration": 5,
    "start_time": "2021-09-10T19:15:22.202Z"
   },
   {
    "duration": 11,
    "start_time": "2021-09-10T19:15:22.209Z"
   },
   {
    "duration": 9,
    "start_time": "2021-09-10T19:15:22.222Z"
   },
   {
    "duration": 6,
    "start_time": "2021-09-10T19:15:22.232Z"
   },
   {
    "duration": 9,
    "start_time": "2021-09-10T19:15:22.239Z"
   },
   {
    "duration": 35,
    "start_time": "2021-09-10T19:15:22.249Z"
   },
   {
    "duration": 11,
    "start_time": "2021-09-10T19:15:22.286Z"
   },
   {
    "duration": 634,
    "start_time": "2021-09-10T19:15:22.299Z"
   },
   {
    "duration": 3,
    "start_time": "2021-09-10T19:15:22.935Z"
   },
   {
    "duration": 1576,
    "start_time": "2021-09-10T19:15:22.940Z"
   },
   {
    "duration": 5,
    "start_time": "2021-09-10T19:15:24.518Z"
   },
   {
    "duration": 35,
    "start_time": "2021-09-10T19:15:24.525Z"
   },
   {
    "duration": 16,
    "start_time": "2021-09-10T19:15:24.562Z"
   },
   {
    "duration": 19,
    "start_time": "2021-09-10T19:15:24.579Z"
   },
   {
    "duration": 9,
    "start_time": "2021-09-10T19:15:24.600Z"
   },
   {
    "duration": 19,
    "start_time": "2021-09-10T19:15:24.611Z"
   },
   {
    "duration": 12,
    "start_time": "2021-09-10T19:15:24.632Z"
   },
   {
    "duration": 37,
    "start_time": "2021-09-10T19:15:24.646Z"
   },
   {
    "duration": 13,
    "start_time": "2021-09-10T19:15:24.685Z"
   }
  ],
  "kernelspec": {
   "display_name": "Python 3",
   "language": "python",
   "name": "python3"
  },
  "language_info": {
   "codemirror_mode": {
    "name": "ipython",
    "version": 3
   },
   "file_extension": ".py",
   "mimetype": "text/x-python",
   "name": "python",
   "nbconvert_exporter": "python",
   "pygments_lexer": "ipython3",
   "version": "3.8.5"
  },
  "toc": {
   "base_numbering": 1,
   "nav_menu": {
    "height": "415px",
    "width": "264.333px"
   },
   "number_sections": true,
   "sideBar": true,
   "skip_h1_title": true,
   "title_cell": "Table of Contents",
   "title_sidebar": "Contents",
   "toc_cell": false,
   "toc_position": {},
   "toc_section_display": true,
   "toc_window_display": false
  }
 },
 "nbformat": 4,
 "nbformat_minor": 2
}
